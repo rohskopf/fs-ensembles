{
 "cells": [
  {
   "cell_type": "markdown",
   "metadata": {},
   "source": [
    "# Load fit and configs"
   ]
  },
  {
   "cell_type": "code",
   "execution_count": 1,
   "metadata": {},
   "outputs": [
    {
     "data": {
      "text/plain": [
       "['/home/localdmonte/fs-ensembles',\n",
       " '/home/localdmonte/Fitsnap_4_python_path/FitSNAP',\n",
       " '/home/localdmonte/.conda/envs/Fitnsap_NN_23/lib/python310.zip',\n",
       " '/home/localdmonte/.conda/envs/Fitnsap_NN_23/lib/python3.10',\n",
       " '/home/localdmonte/.conda/envs/Fitnsap_NN_23/lib/python3.10/lib-dynload',\n",
       " '',\n",
       " '/home/localdmonte/.local/lib/python3.10/site-packages',\n",
       " '/home/localdmonte/.conda/envs/Fitnsap_NN_23/lib/python3.10/site-packages']"
      ]
     },
     "execution_count": 1,
     "metadata": {},
     "output_type": "execute_result"
    }
   ],
   "source": [
    "import sys\n",
    "sys.path"
   ]
  },
  {
   "cell_type": "code",
   "execution_count": 2,
   "metadata": {},
   "outputs": [
    {
     "name": "stdout",
     "output_type": "stream",
     "text": [
      "Requirement already satisfied: fitsnap3 in /home/localdmonte/.conda/envs/Fitnsap_NN_23/lib/python3.10/site-packages (3.1.0.4)\r\n"
     ]
    }
   ],
   "source": [
    "# !export PYTHONPATH\n",
    "# !python -m pip install fitsnap3 --no-deps"
   ]
  },
  {
   "cell_type": "code",
   "execution_count": null,
   "metadata": {},
   "outputs": [
    {
     "name": "stdout",
     "output_type": "stream",
     "text": [
      "These are the weights of the nn ['/home/localdmonte/Nickel_potential_EM_AL_correct/NN_ensembles_using_fitsnap/AL_006/NN_1/Ni_Pytorch.pt', '/home/localdmonte/Nickel_potential_EM_AL_correct/NN_ensembles_using_fitsnap/AL_006/NN_2/Ni_Pytorch.pt', '/home/localdmonte/Nickel_potential_EM_AL_correct/NN_ensembles_using_fitsnap/AL_006/NN_3/Ni_Pytorch.pt', '/home/localdmonte/Nickel_potential_EM_AL_correct/NN_ensembles_using_fitsnap/AL_006/NN_4/Ni_Pytorch.pt', '/home/localdmonte/Nickel_potential_EM_AL_correct/NN_ensembles_using_fitsnap/AL_006/NN_5/Ni_Pytorch.pt']\n",
      "Loading config file\n"
     ]
    }
   ],
   "source": [
    "import numpy as np\n",
    "import pickle\n",
    "import torch\n",
    "from pathlib import Path\n",
    "\n",
    "import glob\n",
    "list_of_weights=sorted(glob.glob('/home/localdmonte/Nickel_potential_EM_AL_correct/NN_ensembles_using_fitsnap/AL_006/NN_*/Ni_Pytorch.pt'))\n",
    "print('These are the weights of the nn',list_of_weights)\n",
    "\n",
    "print('Loading config file')\n",
    "\n",
    "import time\n",
    "\n",
    "t0 = time.time()\n",
    "\n",
    "with open(r\"/home/localdmonte/Ni_pot_EM_AL/NN_ensembles_using_fitsnap/evaluating_fit_Initial_fit/NN_1/configs.pickle\", \"rb\") as file:\n",
    "    configs = pickle.load(file)\n",
    "\n",
    "t1 = time.time()\n",
    "total = t1-t0\n",
    "\n",
    "print('Total time (s) to load config file',total)"
   ]
  },
  {
   "cell_type": "markdown",
   "metadata": {},
   "source": [
    "# Make settings / input"
   ]
  },
  {
   "cell_type": "code",
   "execution_count": null,
   "metadata": {},
   "outputs": [],
   "source": [
    "# # Can use input script path (string) or dictionary.\n",
    "settings = \"/home/localdmonte/Nickel_potential_EM_AL_correct/Evaluating_fitted_potentials/Evaluating_fitted_potential_005/NN_Ni_eval.in\"\n",
    "\n",
    "# settings = \\\n",
    "# {\n",
    "# \"BISPECTRUM\":\n",
    "#     {\n",
    "#     \"numTypes\": 1,\n",
    "#     \"twojmax\": 8,\n",
    "#     \"rcutfac\": 4.1,\n",
    "#     \"rfac0\": 0.99363,\n",
    "#     \"rmin0\": 0.0,\n",
    "#     \"wj\": 1.0,\n",
    "#     \"radelem\": 0.5,\n",
    "#     \"type\": \"Ni\",\n",
    "#     \"wselfallflag\": 0,\n",
    "#     \"chemflag\": 0,\n",
    "#     \"bzeroflag\": 1,\n",
    "#     \"bikflag\": 1,\n",
    "#     \"dgradflag\": 1\n",
    "#     },\n",
    "# \"CALCULATOR\":\n",
    "#     {\n",
    "#     \"calculator\": \"LAMMPSSNAP\",\n",
    "#     \"energy\": 1,\n",
    "#     \"force\": 1,\n",
    "#     \"per_atom_energy\": 1,\n",
    "#     \"nonlinear\": 1\n",
    "#     },\n",
    "# \"PYTORCH\":\n",
    "#     {\n",
    "#     \"layer_sizes\": \"num_desc 55 64 32 16 1\",\n",
    "#     \"learning_rate\": 1.5e-4,\n",
    "#     \"num_epochs\": 1000,\n",
    "#     \"batch_size\": 4,\n",
    "#     \"save_state_output\": \"Ni_Pytorch.pt\"\n",
    "#     },\n",
    "# \"SOLVER\":\n",
    "#     {\n",
    "#     \"solver\": \"PYTORCH\"\n",
    "#     },\n",
    "# \"SCRAPER\":\n",
    "#     {\n",
    "#     \"scraper\": \"JSON\" \n",
    "#     },\n",
    "# \"PATH\":\n",
    "#     {\n",
    "#     \"dataPath\": \"/home/localdmonte/Ni_pot_EM_AL/bispectrum_df_and_json_files/EM_Ni_set/Entropy_set_rescaled_json_internet_factor\"\n",
    "#     },\n",
    "# \"OUTFILE\":\n",
    "#     {\n",
    "#     \"metrics\": \"Ni_metrics_eval.dat\",\n",
    "#     \"potential\": \"Ni_pot\"   \n",
    "#     },\n",
    "# \"REFERENCE\":\n",
    "#     {\n",
    "#     \"units\": \"metal\",\n",
    "#     \"atom_style\": \"atomic\",\n",
    "#     \"pair_style\": \"zero 10.0\",\n",
    "#     \"pair_coeff\": \"* *\"\n",
    "#     },\n",
    "# \"GROUPS\":\n",
    "#     {\n",
    "#     \"group_sections\": \"name training_size testing_size eweight fweight\",\n",
    "#     \"group_types\": \"str float float float float\",\n",
    "#     \"smartweights\": 0,\n",
    "#     \"random_sampling\": 0\n",
    "#     }\n",
    "# }\n",
    "\n",
    "# # Add all the groups.\n",
    "# chars = [chr(i) for i in range(ord('a'), ord('z')+1, 1)]\n",
    "# for c in chars:\n",
    "#     settings['GROUPS'][f'json-xa{c}'] = \"1  0  1.0e6 1.0e6\""
   ]
  },
  {
   "cell_type": "markdown",
   "metadata": {},
   "source": [
    "# Create FitSnap instance"
   ]
  },
  {
   "cell_type": "markdown",
   "metadata": {},
   "source": [
    "# Calculate model energies/forces."
   ]
  },
  {
   "cell_type": "code",
   "execution_count": null,
   "metadata": {},
   "outputs": [],
   "source": [
    "from fitsnap3lib.fitsnap import FitSnap\n",
    "import pickle\n",
    "\n",
    "#from mpi4py import MPI\n",
    "#comm = MPI.COMM_WORLD\n",
    "\n",
    "# For settings can use dictionary or string path to input script.\n",
    "#settings = \"NN_Ni_eval.in\"\n",
    "\n",
    "fs = FitSnap(settings, arglist=[\"--overwrite\"])"
   ]
  },
  {
   "cell_type": "code",
   "execution_count": null,
   "metadata": {},
   "outputs": [],
   "source": [
    "# Load pytorch file from a previous fit.\n",
    "instances = [FitSnap(settings, arglist=[\"--overwrite\"]) for _ in range(4)]\n",
    "for i, inst in enumerate(instances):\n",
    "    print(list_of_weights[i])\n",
    "    t0 = time.time()\n",
    "    inst.config.sections['PYTORCH'].save_state_input = list_of_weights[i]\n",
    "    inst.solver.configs = configs\n",
    "    (energies_model, forces_model) = inst.solver.evaluate_configs(config_idx=None, standardize_bool=True)\n",
    "    t1 = time.time()\n",
    "    total = t1-t0\n",
    "    print('Total time (s) to obtain forces and energies from config file',total)\n",
    "\n",
    "    with open(\"energies_model_\"+str(i+1).zfill(2), \"wb\") as fp:   #Pickling\n",
    "        pickle.dump(energies_model, fp)\n",
    "        \n",
    "    with open(\"forces_model_\"+str(i+1).zfill(2), \"wb\") as fp:   #Pickling\n",
    "        pickle.dump(forces_model, fp)\n",
    "        \n",
    "    del inst"
   ]
  },
  {
   "cell_type": "code",
   "execution_count": null,
   "metadata": {},
   "outputs": [],
   "source": [
    "# import pickle\n",
    "\n",
    "# with open(\"energies_model_\"+str(i+1).zfill(2), \"wb\") as fp:   #Pickling\n",
    "#     pickle.dump(energies_model, fp)\n",
    "    \n",
    "# with open(\"forces_model_\"+str(i+1).zfill(2), \"wb\") as fp:   #Pickling\n",
    "#     pickle.dump(forces_model, fp)\n",
    "\n",
    "\n",
    "# # with open(\"energies_model_\"+str(1).zfill(2), \"rb\") as fp:   # Unpickling\n",
    "    \n",
    "# #     b = pickle.load(fp)"
   ]
  }
 ],
 "metadata": {
  "kernelspec": {
   "display_name": "Python 3 (ipykernel)",
   "language": "python",
   "name": "python3"
  },
  "language_info": {
   "codemirror_mode": {
    "name": "ipython",
    "version": 3
   },
   "file_extension": ".py",
   "mimetype": "text/x-python",
   "name": "python",
   "nbconvert_exporter": "python",
   "pygments_lexer": "ipython3",
   "version": "3.10.9"
  }
 },
 "nbformat": 4,
 "nbformat_minor": 2
}

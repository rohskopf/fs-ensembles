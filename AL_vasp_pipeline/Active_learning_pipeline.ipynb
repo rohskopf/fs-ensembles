{
 "cells": [
  {
   "cell_type": "code",
   "execution_count": 1,
   "id": "d1cf0f8d",
   "metadata": {},
   "outputs": [
    {
     "name": "stdout",
     "output_type": "stream",
     "text": [
      "LAMMPS (15 Jun 2023 - Development - patch_15Jun2023-196-ge25cbde6e2-modified)\n",
      "<lammps.core.lammps object at 0x104abc790>\n"
     ]
    }
   ],
   "source": [
    "# Check the lammps is working\n",
    "import lammps\n",
    "lmp = lammps.lammps()\n",
    "print(lmp)\n"
   ]
  },
  {
   "cell_type": "code",
   "execution_count": 2,
   "id": "dfe2b1e2",
   "metadata": {},
   "outputs": [],
   "source": [
    "import numpy as np\n",
    "from fitsnap3lib.fitsnap import FitSnap"
   ]
  },
  {
   "cell_type": "markdown",
   "id": "5055dc6c",
   "metadata": {},
   "source": [
    "# Step 1: Train the Ensemble of NNs\n",
    "## Define the setting dictionary for training the NNs"
   ]
  },
  {
   "cell_type": "code",
   "execution_count": 3,
   "id": "02164522",
   "metadata": {},
   "outputs": [],
   "source": [
    "# Create an input dictionary containing settings.\n",
    "\n",
    "settings = \\\n",
    "{\n",
    "\"BISPECTRUM\":\n",
    "    {\n",
    "    \"numTypes\": 1,\n",
    "    \"twojmax\": 8,\n",
    "    \"rcutfac\": 4.1,\n",
    "    \"rfac0\": 0.99363,\n",
    "    \"rmin0\": 0.0,\n",
    "    \"wj\": 1.0,\n",
    "    \"radelem\": 0.5,\n",
    "    \"type\": \"Ni\",\n",
    "    \"wselfallflag\": 0,\n",
    "    \"chemflag\": 0,\n",
    "    \"bzeroflag\": 0,\n",
    "    \"quadraticflag\": 0,\n",
    "     \"bikflag\": 1,\n",
    "    \"dgradflag\": 1,\n",
    "    },\n",
    "\"CALCULATOR\":\n",
    "    {\n",
    "    \"calculator\": \"LAMMPSSNAP\",\n",
    "    \"energy\": 1,\n",
    "    \"per_atom_energy\": 1,\n",
    "    \"force\": 1,\n",
    "    \"stress\": 0,\n",
    "        \"nonlinear\": 1\n",
    "    },\n",
    "\"ESHIFT\":\n",
    "    {\n",
    "    \"Ni\": 0.0\n",
    "    },\n",
    "\"PYTORCH\":\n",
    "    {\n",
    "    \"layer_sizes\": \"num_desc 55 64 32 16 1\",\n",
    "    \"learning_rate\": 1.5e-4,\n",
    "    \"num_epochs\": 10,\n",
    "    \"batch_size\": 4, # 363 configs in entire set\n",
    "    \"save_state_output\": \"Ni_Pytorch.pt\",\n",
    "     \"energy_weight\": 1.0,\n",
    "        \"force_weight\": 10.0,\n",
    "        \"training_fraction\": 1\n",
    "    },\n",
    "\"SOLVER\":\n",
    "    {\n",
    "    \"solver\": \"PYTORCH\",\n",
    "    \"compute_testerrs\": 1,\n",
    "    \"detailed_errors\": 1\n",
    "    },\n",
    "\"SCRAPER\":\n",
    "    {\n",
    "    \"scraper\": \"JSON\" \n",
    "    },\n",
    "\"PATH\":\n",
    "    {\n",
    "    \"dataPath\": \"Initial_training_set\"\n",
    "    },\n",
    "\"OUTFILE\":\n",
    "    {\n",
    "    \"metrics\": \"Ni_metrics.md\",\n",
    "    \"potential\": \"Ni_pot\"\n",
    "    },\n",
    "\"REFERENCE\":\n",
    "    {\n",
    "    \"units\": \"metal\",\n",
    "    \"atom_style\": \"atomic\",\n",
    "    \"pair_style\": \"zero 10.0\",\n",
    "    \"pair_coeff1\": \"* *\",\n",
    "    },\n",
    "\"EXTRAS\":\n",
    "    {\n",
    "    \"dump_peratom\": 1,\n",
    "    \"dump_perconfig\": 1\n",
    "    },\n",
    "\"GROUPS\":\n",
    "    {\n",
    "    \"group_sections\": \"name training_size testing_size eweight fweight vweight\",\n",
    "    \"group_types\": \"str float float float float float\",\n",
    "    \"smartweights\": 0,\n",
    "    \"random_sampling\": 0,\n",
    "    \"Ni_JSON\" :  \"1  0  1.0e6 1.0e6 1.0e-12\"\n",
    "    }\n",
    "}"
   ]
  },
  {
   "cell_type": "code",
   "execution_count": 4,
   "id": "886e9777",
   "metadata": {},
   "outputs": [
    {
     "name": "stdout",
     "output_type": "stream",
     "text": [
      "----- Global weights set: Overriding group weights.\n",
      "----- Global training fraction set: Overriding group fractions.\n"
     ]
    }
   ],
   "source": [
    "#start unstance of fitsnap\n",
    "fs = FitSnap(settings, arglist=[\"--overwrite\"])"
   ]
  },
  {
   "cell_type": "code",
   "execution_count": 5,
   "id": "4a3a8775",
   "metadata": {},
   "outputs": [
    {
     "name": "stdout",
     "output_type": "stream",
     "text": [
      "'scrape_configs' took 404.78 ms on rank 0\n"
     ]
    }
   ],
   "source": [
    "# scrape data\n",
    "fs.scrape_configs()"
   ]
  },
  {
   "cell_type": "code",
   "execution_count": 6,
   "id": "c7b4028e",
   "metadata": {},
   "outputs": [
    {
     "name": "stdout",
     "output_type": "stream",
     "text": [
      "294\n"
     ]
    }
   ],
   "source": [
    "print(len(fs.data))"
   ]
  },
  {
   "cell_type": "code",
   "execution_count": 7,
   "id": "1daab877",
   "metadata": {},
   "outputs": [
    {
     "name": "stdout",
     "output_type": "stream",
     "text": [
      "{'AtomTypeStyle': 'chemicalsymbol', 'EnergyStyle': 'electronvolt', 'ForcesStyle': 'electronvoltperangstrom', 'LatticeStyle': 'angstrom', 'PositionsStyle': 'angstrom', 'StressStyle': 'kB', 'File': 'Mo_10_vasp_1.json', 'Group': 'Ni_JSON', 'AtomTypes': ['Ni', 'Ni', 'Ni', 'Ni', 'Ni', 'Ni', 'Ni', 'Ni', 'Ni', 'Ni', 'Ni', 'Ni', 'Ni', 'Ni', 'Ni', 'Ni', 'Ni', 'Ni', 'Ni', 'Ni', 'Ni', 'Ni', 'Ni', 'Ni', 'Ni', 'Ni', 'Ni', 'Ni', 'Ni', 'Ni', 'Ni', 'Ni', 'Ni', 'Ni', 'Ni', 'Ni', 'Ni', 'Ni', 'Ni', 'Ni', 'Ni', 'Ni', 'Ni', 'Ni', 'Ni', 'Ni', 'Ni', 'Ni', 'Ni', 'Ni', 'Ni', 'Ni', 'Ni', 'Ni', 'Ni', 'Ni', 'Ni', 'Ni', 'Ni', 'Ni', 'Ni', 'Ni', 'Ni', 'Ni', 'Ni', 'Ni', 'Ni', 'Ni', 'Ni', 'Ni', 'Ni', 'Ni', 'Ni', 'Ni', 'Ni', 'Ni', 'Ni', 'Ni', 'Ni', 'Ni', 'Ni', 'Ni', 'Ni', 'Ni', 'Ni', 'Ni', 'Ni', 'Ni', 'Ni', 'Ni', 'Ni', 'Ni', 'Ni', 'Ni', 'Ni', 'Ni', 'Ni', 'Ni', 'Ni', 'Ni', 'Ni', 'Ni', 'Ni', 'Ni', 'Ni', 'Ni', 'Ni'], 'Energy': -554.67899589, 'Forces': array([[ 1.042700e-02, -8.223610e-01, -6.843620e-01],\n",
      "       [ 1.353150e-01, -3.520484e+00,  1.188490e-01],\n",
      "       [ 4.506600e-01,  5.782440e-01, -3.315690e-01],\n",
      "       [-7.235980e-01, -7.386850e-01,  2.024187e+00],\n",
      "       [ 1.438156e+00, -7.400300e-01, -7.314100e-02],\n",
      "       [-6.405900e-02, -4.477450e-01, -7.263080e-01],\n",
      "       [ 4.533890e-01,  3.877000e-01,  6.267600e-02],\n",
      "       [-3.068160e-01, -1.251542e+00,  6.260720e-01],\n",
      "       [-8.329810e-01, -1.173783e+00,  6.952490e-01],\n",
      "       [-6.407270e-01,  1.542348e+00, -3.196350e-01],\n",
      "       [-6.520420e-01,  2.066560e-01,  9.508600e-01],\n",
      "       [-1.685218e+00, -2.996880e-01,  1.921370e-01],\n",
      "       [-9.827780e-01, -3.078370e-01,  9.273280e-01],\n",
      "       [ 4.161470e-01,  3.103740e-01,  8.335280e-01],\n",
      "       [-8.011810e-01, -7.869800e-01, -8.385080e-01],\n",
      "       [-3.109500e+00, -1.987736e+00, -1.642501e+00],\n",
      "       [-3.260380e-01,  7.824710e-01, -1.034279e+00],\n",
      "       [ 2.001400e-02,  2.491220e-01,  1.135935e+00],\n",
      "       [-1.078649e+00,  7.126510e-01, -2.131391e+00],\n",
      "       [-1.169090e-01, -3.131550e-01, -1.452122e+00],\n",
      "       [ 2.122790e-01, -1.061748e+00, -5.222900e-02],\n",
      "       [-4.173930e-01, -6.210710e-01,  1.760010e-01],\n",
      "       [ 1.206711e+00, -1.047970e-01,  3.228820e-01],\n",
      "       [ 3.930900e-01, -8.223160e-01, -6.105590e-01],\n",
      "       [ 2.396945e+00,  9.001960e-01,  1.268088e+00],\n",
      "       [-1.473154e+00,  8.873240e-01, -6.185240e-01],\n",
      "       [-1.344454e+00, -2.230228e+00,  8.347090e-01],\n",
      "       [ 5.557900e-01,  6.266490e-01, -1.418704e+00],\n",
      "       [-8.663060e-01,  1.527596e+00,  1.540367e+00],\n",
      "       [-1.865760e-01,  4.944730e-01, -7.326100e-01],\n",
      "       [-1.550245e+00,  3.529870e-01, -4.586510e-01],\n",
      "       [ 3.040840e-01,  1.069822e+00,  9.345170e-01],\n",
      "       [-8.006500e-01,  1.275975e+00,  4.801650e-01],\n",
      "       [-7.120200e-02,  1.932745e+00,  5.620880e-01],\n",
      "       [ 1.361571e+00,  9.448920e-01,  2.318570e-01],\n",
      "       [-9.256000e-02,  4.646960e-01,  6.237900e-01],\n",
      "       [ 1.776123e+00,  8.704580e-01, -1.314437e+00],\n",
      "       [-1.048405e+00,  4.263650e-01, -8.816580e-01],\n",
      "       [-5.170960e-01, -5.741700e-02, -4.031870e-01],\n",
      "       [ 1.232938e+00, -4.368800e-01, -4.687030e-01],\n",
      "       [ 2.545337e+00,  2.433452e+00,  1.322890e-01],\n",
      "       [ 2.270130e-01,  9.367920e-01,  1.162480e-01],\n",
      "       [-1.546045e+00,  5.969800e-02,  7.993890e-01],\n",
      "       [ 2.539120e-01,  5.725940e-01,  4.876550e-01],\n",
      "       [-1.267802e+00,  6.626130e-01,  2.963500e-02],\n",
      "       [-3.630390e-01,  1.264500e-02,  3.970400e-02],\n",
      "       [ 1.051957e+00,  1.076773e+00,  1.370590e-01],\n",
      "       [ 1.560530e-01, -6.210990e-01, -7.707200e-01],\n",
      "       [-6.685120e-01,  4.125110e-01,  1.227117e+00],\n",
      "       [ 4.063830e-01,  5.041770e-01, -5.266650e-01],\n",
      "       [ 4.839930e-01,  1.046388e+00,  1.586008e+00],\n",
      "       [ 6.377770e-01, -2.458166e+00,  1.232131e+00],\n",
      "       [ 1.615141e+00,  1.564280e-01, -1.179390e-01],\n",
      "       [ 4.734230e-01, -8.410000e-04, -6.433830e-01],\n",
      "       [-3.584720e-01,  5.063130e-01, -1.906480e-01],\n",
      "       [-6.593720e-01,  5.476670e-01, -5.089600e-02],\n",
      "       [ 1.233633e+00,  7.477720e-01, -5.106370e-01],\n",
      "       [ 1.221998e+00, -6.074520e-01,  9.594910e-01],\n",
      "       [-2.507370e+00, -2.183807e+00,  5.669550e-01],\n",
      "       [ 2.142274e+00, -4.627780e-01, -6.114660e-01],\n",
      "       [ 8.596520e-01,  1.586238e+00, -2.950320e-01],\n",
      "       [-2.642160e-01, -2.198410e-01,  2.187800e-02],\n",
      "       [-3.329900e-01,  3.894000e-03,  1.175725e+00],\n",
      "       [ 1.028558e+00,  1.059163e+00, -1.634413e+00],\n",
      "       [ 1.699490e-01, -3.876660e-01, -6.891100e-02],\n",
      "       [ 9.944600e-02, -2.320060e-01,  7.163510e-01],\n",
      "       [ 4.441800e-02,  4.227890e-01, -1.511110e-01],\n",
      "       [-2.757560e-01,  4.835830e-01,  4.124500e-01],\n",
      "       [-8.279650e-01,  1.962039e+00, -5.030790e-01],\n",
      "       [ 1.878515e+00, -1.434812e+00,  2.181975e+00],\n",
      "       [ 3.552140e-01, -8.773770e-01,  1.027951e+00],\n",
      "       [ 8.978600e-01, -9.103790e-01,  4.397730e-01],\n",
      "       [ 3.996830e-01, -1.418177e+00,  1.424199e+00],\n",
      "       [ 1.549903e+00,  1.144379e+00,  6.910590e-01],\n",
      "       [ 1.318135e+00, -1.262781e+00, -7.226790e-01],\n",
      "       [ 4.036000e-02,  1.257850e-01, -3.159620e-01],\n",
      "       [-5.572970e-01, -1.731630e-01,  9.886940e-01],\n",
      "       [-1.278667e+00, -8.833520e-01, -6.313920e-01],\n",
      "       [-3.102348e+00, -1.183303e+00, -2.633970e-01],\n",
      "       [-1.190830e-01,  1.015614e+00,  1.436053e+00],\n",
      "       [ 3.488810e-01, -9.370860e-01, -3.212330e-01],\n",
      "       [-7.055580e-01, -1.125725e+00, -3.187760e-01],\n",
      "       [-2.571520e-01,  1.902790e-01,  6.946170e-01],\n",
      "       [ 2.222110e-01, -3.729050e-01, -1.191012e+00],\n",
      "       [-4.849550e-01,  4.518160e-01,  4.106900e-02],\n",
      "       [-9.422130e-01, -2.791700e-02, -5.618200e-02],\n",
      "       [ 4.167680e-01, -1.681100e-02, -3.955340e-01],\n",
      "       [ 7.981310e-01, -2.883940e-01, -1.482947e+00],\n",
      "       [ 4.756470e-01,  7.238610e-01, -5.976300e-02],\n",
      "       [ 1.545649e+00,  4.133960e-01,  7.372080e-01],\n",
      "       [-6.600360e-01, -1.240622e+00, -1.238185e+00],\n",
      "       [-7.902730e-01,  6.288220e-01, -1.052549e+00],\n",
      "       [-4.368650e-01, -2.816480e-01, -1.066076e+00],\n",
      "       [ 3.159600e-01, -3.741720e-01,  1.155593e+00],\n",
      "       [-9.096710e-01, -3.384280e-01, -2.184270e-01],\n",
      "       [-1.641262e+00, -1.297248e+00,  4.581140e-01],\n",
      "       [ 2.020292e+00,  1.850649e+00, -1.547435e+00],\n",
      "       [-4.418600e-01, -1.991920e-01,  6.045650e-01],\n",
      "       [ 6.472700e-02,  3.618060e-01,  2.672920e-01],\n",
      "       [-4.015700e-02,  2.287342e+00, -1.542618e+00],\n",
      "       [-7.337390e-01,  1.892700e-01,  7.473200e-01],\n",
      "       [-4.463050e-01, -3.864120e-01, -5.214100e-02],\n",
      "       [ 1.859173e+00,  1.015805e+00, -5.138120e-01],\n",
      "       [ 6.971150e-01, -2.037161e+00, -6.721890e-01],\n",
      "       [ 3.056170e-01,  2.027140e-01,  6.998330e-01],\n",
      "       [-5.852900e-02,  5.215500e-02,  7.249100e-02],\n",
      "       [-1.583500e-01, -4.257610e-01, -1.918887e+00]]), 'NumAtoms': 107, 'Positions': array([[1.089800e-01, 1.807200e-01, 3.624610e+00],\n",
      "       [1.051590e+01, 3.171000e-01, 6.981650e+00],\n",
      "       [1.040188e+01, 3.515980e+00, 1.042402e+01],\n",
      "       [1.052005e+01, 3.560560e+00, 3.299640e+00],\n",
      "       [1.036789e+01, 3.556760e+00, 7.011900e+00],\n",
      "       [1.051351e+01, 7.100360e+00, 9.992000e-02],\n",
      "       [1.044746e+01, 6.849630e+00, 3.591890e+00],\n",
      "       [8.443000e-02, 7.065540e+00, 7.025650e+00],\n",
      "       [3.524590e+00, 5.277000e-02, 1.046601e+01],\n",
      "       [3.557330e+00, 1.034846e+01, 3.564270e+00],\n",
      "       [3.488680e+00, 1.040183e+01, 7.020720e+00],\n",
      "       [3.780400e+00, 3.548330e+00, 5.966000e-02],\n",
      "       [3.724080e+00, 3.483610e+00, 3.275000e+00],\n",
      "       [3.482580e+00, 3.463090e+00, 6.857240e+00],\n",
      "       [3.616540e+00, 7.146540e+00, 1.128300e-01],\n",
      "       [3.672850e+00, 7.162320e+00, 3.575050e+00],\n",
      "       [3.497040e+00, 6.820610e+00, 7.159450e+00],\n",
      "       [7.040620e+00, 1.051201e+01, 1.032855e+01],\n",
      "       [7.091480e+00, 1.048293e+01, 3.623440e+00],\n",
      "       [6.991930e+00, 1.052392e+01, 7.172330e+00],\n",
      "       [7.063980e+00, 3.652150e+00, 1.045811e+01],\n",
      "       [7.017560e+00, 3.481010e+00, 3.522590e+00],\n",
      "       [6.844680e+00, 3.528600e+00, 6.930550e+00],\n",
      "       [6.964860e+00, 7.074620e+00, 1.051264e+01],\n",
      "       [6.757830e+00, 7.042210e+00, 3.452350e+00],\n",
      "       [7.146660e+00, 7.006530e+00, 6.960620e+00],\n",
      "       [5.165000e-02, 2.008860e+00, 1.577710e+00],\n",
      "       [1.049460e+01, 1.833240e+00, 5.354540e+00],\n",
      "       [1.893600e-01, 1.573190e+00, 8.744490e+00],\n",
      "       [1.044559e+01, 5.233360e+00, 1.830120e+00],\n",
      "       [7.802000e-02, 5.163410e+00, 5.320470e+00],\n",
      "       [1.159000e-02, 5.143280e+00, 8.649050e+00],\n",
      "       [5.888000e-02, 8.834270e+00, 1.736250e+00],\n",
      "       [6.802000e-02, 8.676310e+00, 5.286250e+00],\n",
      "       [1.041327e+01, 8.661110e+00, 8.793580e+00],\n",
      "       [3.600730e+00, 1.629300e+00, 1.710260e+00],\n",
      "       [3.328070e+00, 1.601300e+00, 5.387820e+00],\n",
      "       [3.564310e+00, 1.728440e+00, 8.806120e+00],\n",
      "       [3.560170e+00, 5.326760e+00, 1.754020e+00],\n",
      "       [3.420470e+00, 5.257930e+00, 5.251960e+00],\n",
      "       [3.325590e+00, 5.125030e+00, 8.910040e+00],\n",
      "       [3.431080e+00, 8.710730e+00, 1.778850e+00],\n",
      "       [3.536200e+00, 8.688690e+00, 5.321760e+00],\n",
      "       [3.480360e+00, 8.644090e+00, 8.728260e+00],\n",
      "       [7.233630e+00, 1.677070e+00, 1.696040e+00],\n",
      "       [7.024880e+00, 1.704870e+00, 5.330160e+00],\n",
      "       [6.890990e+00, 1.716390e+00, 8.753410e+00],\n",
      "       [7.074600e+00, 5.442070e+00, 1.819870e+00],\n",
      "       [6.944930e+00, 5.253730e+00, 5.133080e+00],\n",
      "       [6.944000e+00, 5.256880e+00, 8.791820e+00],\n",
      "       [6.995820e+00, 8.686870e+00, 1.598820e+00],\n",
      "       [6.995880e+00, 9.035460e+00, 5.226260e+00],\n",
      "       [6.815770e+00, 8.676000e+00, 8.709770e+00],\n",
      "       [1.689160e+00, 7.851000e-02, 1.865830e+00],\n",
      "       [1.764660e+00, 1.041564e+01, 5.378230e+00],\n",
      "       [1.829580e+00, 1.038011e+01, 8.769910e+00],\n",
      "       [1.755190e+00, 3.470220e+00, 1.753190e+00],\n",
      "       [1.632790e+00, 3.559730e+00, 5.107480e+00],\n",
      "       [1.958480e+00, 3.574800e+00, 8.735180e+00],\n",
      "       [1.488250e+00, 7.100210e+00, 1.954050e+00],\n",
      "       [1.682260e+00, 6.783770e+00, 5.268860e+00],\n",
      "       [1.748390e+00, 6.990620e+00, 8.898680e+00],\n",
      "       [5.401580e+00, 1.296000e-02, 1.649620e+00],\n",
      "       [5.126710e+00, 1.044730e+01, 5.479120e+00],\n",
      "       [5.163460e+00, 1.047861e+01, 8.715840e+00],\n",
      "       [5.461960e+00, 3.446020e+00, 1.646750e+00],\n",
      "       [5.186140e+00, 3.453890e+00, 5.258270e+00],\n",
      "       [5.249600e+00, 3.507150e+00, 8.679060e+00],\n",
      "       [5.296080e+00, 6.914680e+00, 1.759730e+00],\n",
      "       [5.128310e+00, 7.044380e+00, 5.169180e+00],\n",
      "       [5.202650e+00, 7.028280e+00, 8.690710e+00],\n",
      "       [8.779260e+00, 4.902000e-02, 1.556490e+00],\n",
      "       [8.799840e+00, 8.965000e-02, 5.257580e+00],\n",
      "       [8.656410e+00, 1.043665e+01, 8.712740e+00],\n",
      "       [8.557480e+00, 3.694520e+00, 1.806740e+00],\n",
      "       [8.715700e+00, 3.485300e+00, 5.286020e+00],\n",
      "       [8.719190e+00, 3.566650e+00, 8.594550e+00],\n",
      "       [8.915780e+00, 7.184740e+00, 1.883130e+00],\n",
      "       [9.042470e+00, 7.179490e+00, 5.332860e+00],\n",
      "       [8.804930e+00, 6.852710e+00, 8.633800e+00],\n",
      "       [1.797230e+00, 1.928390e+00, 1.051492e+01],\n",
      "       [1.925310e+00, 1.901420e+00, 3.523260e+00],\n",
      "       [1.789400e+00, 1.803090e+00, 6.998330e+00],\n",
      "       [1.697470e+00, 5.366720e+00, 2.673000e-01],\n",
      "       [1.886340e+00, 5.191860e+00, 3.414310e+00],\n",
      "       [1.834840e+00, 5.191040e+00, 7.038120e+00],\n",
      "       [1.696620e+00, 8.831370e+00, 7.415000e-02],\n",
      "       [1.653530e+00, 8.767660e+00, 3.716940e+00],\n",
      "       [1.729720e+00, 8.620960e+00, 7.055430e+00],\n",
      "       [5.189350e+00, 1.682220e+00, 1.042547e+01],\n",
      "       [5.354880e+00, 1.769960e+00, 3.679010e+00],\n",
      "       [5.272410e+00, 1.674660e+00, 7.093680e+00],\n",
      "       [5.343550e+00, 5.329440e+00, 9.230000e-02],\n",
      "       [5.222480e+00, 5.239020e+00, 3.382030e+00],\n",
      "       [5.363520e+00, 5.347130e+00, 6.982570e+00],\n",
      "       [5.359610e+00, 8.922830e+00, 1.047096e+01],\n",
      "       [5.162240e+00, 8.744240e+00, 3.652900e+00],\n",
      "       [5.308000e+00, 8.659020e+00, 6.925580e+00],\n",
      "       [8.794110e+00, 1.729100e+00, 1.032013e+01],\n",
      "       [8.793160e+00, 1.549150e+00, 3.598700e+00],\n",
      "       [8.747140e+00, 1.769130e+00, 7.009810e+00],\n",
      "       [8.834200e+00, 5.397690e+00, 3.830000e-03],\n",
      "       [8.576210e+00, 5.225630e+00, 3.638530e+00],\n",
      "       [8.682980e+00, 5.409890e+00, 6.920990e+00],\n",
      "       [8.692600e+00, 8.698440e+00, 1.036710e+01],\n",
      "       [8.850870e+00, 8.864300e+00, 3.511820e+00],\n",
      "       [8.785480e+00, 8.819210e+00, 7.192710e+00]]), 'Stress': array([[74.29866,  4.36732, -0.62993],\n",
      "       [ 4.36732, 75.18649,  0.75999],\n",
      "       [-0.62993,  0.75999, 80.20406]]), 'QMLattice': array([[10.524109,  0.      ,  0.      ],\n",
      "       [ 0.      , 10.524109,  0.      ],\n",
      "       [ 0.      ,  0.      , 10.524109]]), 'test_bool': 0, 'Lattice': array([[10.524109,  0.      ,  0.      ],\n",
      "       [ 0.      , 10.524109,  0.      ],\n",
      "       [ 0.      ,  0.      , 10.524109]]), 'Rotation': array([[1., 0., 0.],\n",
      "       [0., 1., 0.],\n",
      "       [0., 0., 1.]]), 'Translation': array([[0., 0., 0.],\n",
      "       [0., 0., 0.],\n",
      "       [0., 0., 0.],\n",
      "       [0., 0., 0.],\n",
      "       [0., 0., 0.],\n",
      "       [0., 0., 0.],\n",
      "       [0., 0., 0.],\n",
      "       [0., 0., 0.],\n",
      "       [0., 0., 0.],\n",
      "       [0., 0., 0.],\n",
      "       [0., 0., 0.],\n",
      "       [0., 0., 0.],\n",
      "       [0., 0., 0.],\n",
      "       [0., 0., 0.],\n",
      "       [0., 0., 0.],\n",
      "       [0., 0., 0.],\n",
      "       [0., 0., 0.],\n",
      "       [0., 0., 0.],\n",
      "       [0., 0., 0.],\n",
      "       [0., 0., 0.],\n",
      "       [0., 0., 0.],\n",
      "       [0., 0., 0.],\n",
      "       [0., 0., 0.],\n",
      "       [0., 0., 0.],\n",
      "       [0., 0., 0.],\n",
      "       [0., 0., 0.],\n",
      "       [0., 0., 0.],\n",
      "       [0., 0., 0.],\n",
      "       [0., 0., 0.],\n",
      "       [0., 0., 0.],\n",
      "       [0., 0., 0.],\n",
      "       [0., 0., 0.],\n",
      "       [0., 0., 0.],\n",
      "       [0., 0., 0.],\n",
      "       [0., 0., 0.],\n",
      "       [0., 0., 0.],\n",
      "       [0., 0., 0.],\n",
      "       [0., 0., 0.],\n",
      "       [0., 0., 0.],\n",
      "       [0., 0., 0.],\n",
      "       [0., 0., 0.],\n",
      "       [0., 0., 0.],\n",
      "       [0., 0., 0.],\n",
      "       [0., 0., 0.],\n",
      "       [0., 0., 0.],\n",
      "       [0., 0., 0.],\n",
      "       [0., 0., 0.],\n",
      "       [0., 0., 0.],\n",
      "       [0., 0., 0.],\n",
      "       [0., 0., 0.],\n",
      "       [0., 0., 0.],\n",
      "       [0., 0., 0.],\n",
      "       [0., 0., 0.],\n",
      "       [0., 0., 0.],\n",
      "       [0., 0., 0.],\n",
      "       [0., 0., 0.],\n",
      "       [0., 0., 0.],\n",
      "       [0., 0., 0.],\n",
      "       [0., 0., 0.],\n",
      "       [0., 0., 0.],\n",
      "       [0., 0., 0.],\n",
      "       [0., 0., 0.],\n",
      "       [0., 0., 0.],\n",
      "       [0., 0., 0.],\n",
      "       [0., 0., 0.],\n",
      "       [0., 0., 0.],\n",
      "       [0., 0., 0.],\n",
      "       [0., 0., 0.],\n",
      "       [0., 0., 0.],\n",
      "       [0., 0., 0.],\n",
      "       [0., 0., 0.],\n",
      "       [0., 0., 0.],\n",
      "       [0., 0., 0.],\n",
      "       [0., 0., 0.],\n",
      "       [0., 0., 0.],\n",
      "       [0., 0., 0.],\n",
      "       [0., 0., 0.],\n",
      "       [0., 0., 0.],\n",
      "       [0., 0., 0.],\n",
      "       [0., 0., 0.],\n",
      "       [0., 0., 0.],\n",
      "       [0., 0., 0.],\n",
      "       [0., 0., 0.],\n",
      "       [0., 0., 0.],\n",
      "       [0., 0., 0.],\n",
      "       [0., 0., 0.],\n",
      "       [0., 0., 0.],\n",
      "       [0., 0., 0.],\n",
      "       [0., 0., 0.],\n",
      "       [0., 0., 0.],\n",
      "       [0., 0., 0.],\n",
      "       [0., 0., 0.],\n",
      "       [0., 0., 0.],\n",
      "       [0., 0., 0.],\n",
      "       [0., 0., 0.],\n",
      "       [0., 0., 0.],\n",
      "       [0., 0., 0.],\n",
      "       [0., 0., 0.],\n",
      "       [0., 0., 0.],\n",
      "       [0., 0., 0.],\n",
      "       [0., 0., 0.],\n",
      "       [0., 0., 0.],\n",
      "       [0., 0., 0.],\n",
      "       [0., 0., 0.],\n",
      "       [0., 0., 0.],\n",
      "       [0., 0., 0.],\n",
      "       [0., 0., 0.]]), 'eweight': 1000000.0, 'fweight': 1000000.0, 'vweight': 1e-12}\n"
     ]
    }
   ],
   "source": [
    "# print out example config\n",
    "print(fs.data[0])"
   ]
  },
  {
   "cell_type": "code",
   "execution_count": 8,
   "id": "138421a8",
   "metadata": {},
   "outputs": [
    {
     "name": "stderr",
     "output_type": "stream",
     "text": [
      "/Users/adrohsk/miniconda3/envs/fitsnap/lib/python3.10/site-packages/lammps/mliap/__init__.py:30: UserWarning: This interpreter is not compatible with python-based MLIAP for LAMMPS. Attempting to activate the MLIAP-python coupling from python may result in undefined behavior.\n",
      "  warnings.warn(\"This interpreter is not compatible with python-based MLIAP for LAMMPS. \"\n"
     ]
    },
    {
     "name": "stdout",
     "output_type": "stream",
     "text": [
      "'process_configs' took 41099.92 ms on rank 0\n"
     ]
    }
   ],
   "source": [
    "# calculate the descriptors\n",
    "fs.process_configs()"
   ]
  },
  {
   "cell_type": "code",
   "execution_count": 9,
   "id": "20f00624",
   "metadata": {},
   "outputs": [
    {
     "name": "stdout",
     "output_type": "stream",
     "text": [
      "Epoch   Train       Val     Time (s)\n"
     ]
    },
    {
     "name": "stdout",
     "output_type": "stream",
     "text": [
      "0  2.013e+01     nan     2.688e+00\n"
     ]
    },
    {
     "name": "stderr",
     "output_type": "stream",
     "text": [
      "/Users/adrohsk/miniconda3/envs/fitsnap/lib/python3.10/site-packages/numpy/core/fromnumeric.py:3464: RuntimeWarning: Mean of empty slice.\n",
      "  return _methods._mean(a, axis=axis, dtype=dtype,\n",
      "/Users/adrohsk/miniconda3/envs/fitsnap/lib/python3.10/site-packages/numpy/core/_methods.py:192: RuntimeWarning: invalid value encountered in scalar divide\n",
      "  ret = ret.dtype.type(ret / rcount)\n"
     ]
    },
    {
     "name": "stdout",
     "output_type": "stream",
     "text": [
      "1  1.327e+00     nan     2.595e+00\n",
      "2  7.202e-01     nan     2.818e+00\n",
      "3  5.276e-01     nan     2.941e+00\n",
      "4  4.247e-01     nan     2.776e+00\n",
      "5  3.533e-01     nan     2.666e+00\n",
      "6  3.018e-01     nan     2.675e+00\n",
      "7  2.534e-01     nan     2.809e+00\n",
      "8  2.219e-01     nan     2.790e+00\n",
      "9  1.921e-01     nan     2.820e+00\n",
      "'fit' took 27671.11 ms on rank 0\n",
      "'error_analysis' took 2500.53 ms on rank 0\n"
     ]
    }
   ],
   "source": [
    "# perform fit\n",
    "fs.perform_fit()"
   ]
  },
  {
   "cell_type": "code",
   "execution_count": 10,
   "id": "f4933b3b",
   "metadata": {},
   "outputs": [
    {
     "name": "stdout",
     "output_type": "stream",
     "text": [
      "total 11064\n",
      "drwxr-xr-x   3 adrohsk  SANDIA\\Domain Users       96 Aug 16 09:21 \u001b[34mInitial_training_set\u001b[m\u001b[m\n",
      "drwxr-xr-x   3 adrohsk  SANDIA\\Domain Users       96 Aug 16 09:21 \u001b[34mUnlabeled_set\u001b[m\u001b[m\n",
      "drwxr-xr-x   4 adrohsk  SANDIA\\Domain Users      128 Aug 16 09:40 \u001b[34mconfig_file_Uset\u001b[m\u001b[m\n",
      "-rw-r--r--   1 adrohsk  SANDIA\\Domain Users    49360 Aug 16 09:40 Active_learning_pipeline.ipynb\n",
      "drwxr-xr-x  10 adrohsk  SANDIA\\Domain Users      320 Aug 16 09:43 \u001b[34minput_script_2_fit_nn\u001b[m\u001b[m\n",
      "-rw-r--r--   1 adrohsk  SANDIA\\Domain Users       78 Aug 16 11:18 log.lammps\n",
      "-rw-r--r--   1 adrohsk  SANDIA\\Domain Users   162475 Aug 16 11:19 Ni_Pytorch.pt\n",
      "-rw-r--r--   1 adrohsk  SANDIA\\Domain Users      540 Aug 16 11:19 loss_vs_epochs.dat\n",
      "-rw-r--r--   1 adrohsk  SANDIA\\Domain Users   105919 Aug 16 11:19 FitTorch_Pytorch.pt\n",
      "-rw-r--r--   1 adrohsk  SANDIA\\Domain Users    21953 Aug 16 11:19 perconfig.dat\n",
      "-rw-r--r--   1 adrohsk  SANDIA\\Domain Users  4451086 Aug 16 11:19 peratom.dat\n"
     ]
    }
   ],
   "source": [
    "# Write LAMMPS potential files.\n",
    "fs.output.write_lammps(fs.solver.fit)\n",
    "# Look at files:\n",
    "!ls -rtl\n",
    "\n",
    "#why is it not saving it as Ni_Pytorch?"
   ]
  },
  {
   "cell_type": "markdown",
   "id": "51b8fd72",
   "metadata": {},
   "source": [
    "# Now make loop to automate"
   ]
  },
  {
   "cell_type": "code",
   "execution_count": 11,
   "id": "aed60a7b",
   "metadata": {},
   "outputs": [],
   "source": [
    "# make a list of instances to loop around\n"
   ]
  },
  {
   "cell_type": "code",
   "execution_count": 12,
   "id": "c8720b00",
   "metadata": {},
   "outputs": [],
   "source": [
    "# loop over all instansces and fit\n",
    "# create N fitsnap instances to create N different .pt files\n",
    "\n",
    "#move pt file to a new folder call fits and have the following structure AL_#/NN_#/Ni_pytorch.pt"
   ]
  },
  {
   "cell_type": "markdown",
   "id": "4cd8db20",
   "metadata": {},
   "source": [
    "# Step 2 "
   ]
  },
  {
   "cell_type": "code",
   "execution_count": 13,
   "id": "9440aa3b",
   "metadata": {},
   "outputs": [
    {
     "name": "stdout",
     "output_type": "stream",
     "text": [
      "These are the weights of the nn ['Ni_Pytorch.pt']\n"
     ]
    }
   ],
   "source": [
    "import sys\n",
    "import numpy as np\n",
    "import pickle\n",
    "import torch\n",
    "from pathlib import Path\n",
    "import glob\n",
    "# from fitsnap3lib.fitsnap import FitSnap\n",
    "import pickle\n",
    "import time\n",
    "\n",
    "list_of_weights=sorted(glob.glob('Ni*.pt'))\n",
    "print('These are the weights of the nn',list_of_weights)\n"
   ]
  },
  {
   "cell_type": "code",
   "execution_count": 15,
   "id": "d111b39e",
   "metadata": {},
   "outputs": [
    {
     "name": "stdout",
     "output_type": "stream",
     "text": [
      "Loading config file\n",
      "Total time (s) to load config file 1.3967540264129639\n"
     ]
    }
   ],
   "source": [
    "# load in the config file \n",
    "\n",
    "print('Loading config file')\n",
    "\n",
    "t0 = time.time()\n",
    "\n",
    "with open(r\"config_file_Uset/configs.pickle\", \"rb\") as file:\n",
    "    configs = pickle.load(file)\n",
    "\n",
    "t1 = time.time()\n",
    "total = t1-t0\n",
    "\n",
    "print('Total time (s) to load config file',total)"
   ]
  },
  {
   "cell_type": "code",
   "execution_count": 16,
   "id": "cb07407e",
   "metadata": {},
   "outputs": [],
   "source": [
    "# Create an input dictionary containing settings.\n",
    "\n",
    "settings_eval = \\\n",
    "{\n",
    "\"BISPECTRUM\":\n",
    "    {\n",
    "    \"numTypes\": 1,\n",
    "    \"twojmax\": 8,\n",
    "    \"rcutfac\": 4.1,\n",
    "    \"rfac0\": 0.99363,\n",
    "    \"rmin0\": 0.0,\n",
    "    \"wj\": 1.0,\n",
    "    \"radelem\": 0.5,\n",
    "    \"type\": \"Ni\",\n",
    "    \"wselfallflag\": 0,\n",
    "    \"chemflag\": 0,\n",
    "    \"bzeroflag\": 0,\n",
    "    \"quadraticflag\": 0,\n",
    "     \"bikflag\": 1,\n",
    "    \"dgradflag\": 1,\n",
    "    },\n",
    "\"CALCULATOR\":\n",
    "    {\n",
    "    \"calculator\": \"LAMMPSSNAP\",\n",
    "    \"energy\": 1,\n",
    "    \"per_atom_energy\": 1,\n",
    "    \"force\": 1,\n",
    "    \"stress\": 0,\n",
    "        \"nonlinear\": 1\n",
    "    },\n",
    "\"ESHIFT\":\n",
    "    {\n",
    "    \"Ni\": 0.0\n",
    "    },\n",
    "\"PYTORCH\":\n",
    "    {\n",
    "    \"layer_sizes\": \"num_desc 55 64 32 16 1\",\n",
    "    \"learning_rate\": 1.5e-4,\n",
    "    \"num_epochs\": 10,\n",
    "    \"batch_size\": 4, # 363 configs in entire set\n",
    "    \"save_state_input\": \"Ni_Pytorch.pt\",\n",
    "     \"energy_weight\": 1.0,\n",
    "        \"force_weight\": 10.0,\n",
    "        \"training_fraction\": 1\n",
    "    },\n",
    "\"SOLVER\":\n",
    "    {\n",
    "    \"solver\": \"PYTORCH\",\n",
    "    \"compute_testerrs\": 1,\n",
    "    \"detailed_errors\": 1\n",
    "    },\n",
    "\"SCRAPER\":\n",
    "    {\n",
    "    \"scraper\": \"JSON\" \n",
    "    },\n",
    "\"PATH\":\n",
    "    {\n",
    "    \"dataPath\": \"/home/localdmonte/fs-ensembles/AL_vasp_pipeline/Initial_training_set\"\n",
    "    },\n",
    "\"OUTFILE\":\n",
    "    {\n",
    "    \"metrics\": \"Ni_metrics.md\",\n",
    "    \"potential\": \"Ni_pot\"\n",
    "    },\n",
    "\"REFERENCE\":\n",
    "    {\n",
    "    \"units\": \"metal\",\n",
    "    \"atom_style\": \"atomic\",\n",
    "    \"pair_style\": \"zero 10.0\",\n",
    "    \"pair_coeff1\": \"* *\",\n",
    "    },\n",
    "\"EXTRAS\":\n",
    "    {\n",
    "    \"dump_peratom\": 1,\n",
    "    \"dump_perconfig\": 1\n",
    "    },\n",
    "\"GROUPS\":\n",
    "    {\n",
    "    \"group_sections\": \"name training_size testing_size eweight fweight vweight\",\n",
    "    \"group_types\": \"str float float float float float\",\n",
    "    \"smartweights\": 0,\n",
    "    \"random_sampling\": 0,\n",
    "    \"Ni_JSON\" :  \"1  0  1.0e6 1.0e6 1.0e-12\"\n",
    "    }\n",
    "}"
   ]
  },
  {
   "cell_type": "code",
   "execution_count": 17,
   "id": "620e1752",
   "metadata": {},
   "outputs": [
    {
     "name": "stdout",
     "output_type": "stream",
     "text": [
      "[{'BISPECTRUM': {'numTypes': 1, 'twojmax': 8, 'rcutfac': 4.1, 'rfac0': 0.99363, 'rmin0': 0.0, 'wj': 1.0, 'radelem': 0.5, 'type': 'Ni', 'wselfallflag': 0, 'chemflag': 0, 'bzeroflag': 0, 'quadraticflag': 0, 'bikflag': 1, 'dgradflag': 1}, 'CALCULATOR': {'calculator': 'LAMMPSSNAP', 'energy': 1, 'per_atom_energy': 1, 'force': 1, 'stress': 0, 'nonlinear': 1}, 'ESHIFT': {'Ni': 0.0}, 'PYTORCH': {'layer_sizes': 'num_desc 55 64 32 16 1', 'learning_rate': 0.00015, 'num_epochs': 10, 'batch_size': 4, 'save_state_input': 'Ni_Pytorch.pt', 'energy_weight': 1.0, 'force_weight': 10.0, 'training_fraction': 1}, 'SOLVER': {'solver': 'PYTORCH', 'compute_testerrs': 1, 'detailed_errors': 1}, 'SCRAPER': {'scraper': 'JSON'}, 'PATH': {'dataPath': '/home/localdmonte/fs-ensembles/AL_vasp_pipeline/Initial_training_set'}, 'OUTFILE': {'metrics': 'Ni_metrics.md', 'potential': 'Ni_pot'}, 'REFERENCE': {'units': 'metal', 'atom_style': 'atomic', 'pair_style': 'zero 10.0', 'pair_coeff1': '* *'}, 'EXTRAS': {'dump_peratom': 1, 'dump_perconfig': 1}, 'GROUPS': {'group_sections': 'name training_size testing_size eweight fweight vweight', 'group_types': 'str float float float float float', 'smartweights': 0, 'random_sampling': 0, 'Ni_JSON': '1  0  1.0e6 1.0e6 1.0e-12'}}]\n"
     ]
    }
   ],
   "source": [
    "# Make a list of settings for each fit.\n",
    "# Declare number of fits.\n",
    "nfits = len(list_of_weights)\n",
    "\n",
    "from copy import deepcopy\n",
    "settings_lst = [deepcopy(settings_eval) for _ in range(nfits)]\n",
    "for i,s in enumerate(settings_lst):\n",
    "    s['PYTORCH']['save_state_input'] = list_of_weights[i]\n",
    "print(settings_lst)"
   ]
  },
  {
   "cell_type": "code",
   "execution_count": 18,
   "id": "41614779",
   "metadata": {},
   "outputs": [
    {
     "name": "stdout",
     "output_type": "stream",
     "text": [
      "----- Global weights set: Overriding group weights.\n",
      "----- Global training fraction set: Overriding group fractions.\n",
      "Total time (s) to obtain forces and energies from config file 4.063306093215942\n"
     ]
    }
   ],
   "source": [
    "\n",
    "# Load pytorch file from a previous fit.\n",
    "instances = [FitSnap(settings, arglist=[\"--overwrite\"]) for _ in range(nfits)]\n",
    "for i, inst in enumerate(instances):\n",
    "    t0 = time.time()\n",
    "    inst.solver.configs = configs\n",
    "    (energies_model, forces_model) = inst.solver.evaluate_configs(config_idx=None, standardize_bool=False)\n",
    "    t1 = time.time()\n",
    "    total = t1-t0\n",
    "    print('Total time (s) to obtain forces and energies from config file',total)\n",
    "\n",
    "    with open(\"energies_model_\"+str(i+1).zfill(2), \"wb\") as fp:   #Pickling\n",
    "        pickle.dump(energies_model, fp)\n",
    "        \n",
    "    with open(\"forces_model_\"+str(i+1).zfill(2), \"wb\") as fp:   #Pickling\n",
    "        pickle.dump(forces_model, fp)\n",
    "\n",
    "    # Delete the instance to free memory.\n",
    "    del inst"
   ]
  },
  {
   "cell_type": "markdown",
   "id": "696f2f9d",
   "metadata": {},
   "source": [
    "# Step 3 "
   ]
  },
  {
   "cell_type": "code",
   "execution_count": 18,
   "id": "f2fc6a48",
   "metadata": {},
   "outputs": [
    {
     "name": "stdout",
     "output_type": "stream",
     "text": [
      "Ni_uspex_32_6.json\n",
      "32\n",
      "(32, 55)\n"
     ]
    },
    {
     "name": "stderr",
     "output_type": "stream",
     "text": [
      "100%|█████████████████████████████████████████████████████████████████████████████████| 8005/8005 [00:00<00:00, 2282953.93it/s]\n"
     ]
    },
    {
     "name": "stdout",
     "output_type": "stream",
     "text": [
      "8005\n"
     ]
    },
    {
     "name": "stderr",
     "output_type": "stream",
     "text": [
      "100%|██████████████████████████████████████████████████████████████████████████████████| 8005/8005 [00:00<00:00, 107451.26it/s]"
     ]
    },
    {
     "name": "stdout",
     "output_type": "stream",
     "text": [
      "768480\n"
     ]
    },
    {
     "name": "stderr",
     "output_type": "stream",
     "text": [
      "\n"
     ]
    }
   ],
   "source": [
    "len(configs)\n",
    "\n",
    "configs\n",
    "\n",
    "print(configs[0].filename)\n",
    "print(configs[0].natoms)\n",
    "print(configs[0].descriptors.shape)\n",
    "\n",
    "from tqdm import tqdm\n",
    "name_list_energy=[]\n",
    "\n",
    "for i in tqdm(range(len(configs))):\n",
    "    name_list_energy.append(configs[i].filename)\n",
    "\n",
    "print(len(name_list_energy))\n",
    "\n",
    "name_list_forces=[]\n",
    "\n",
    "for i in tqdm(range(len(configs))):\n",
    "    for j in range(configs[i].natoms*3):\n",
    "        \n",
    "        name_list_forces.append(configs[i].filename)\n",
    "\n",
    "print(len(name_list_forces))"
   ]
  },
  {
   "cell_type": "code",
   "execution_count": null,
   "id": "a2167796",
   "metadata": {},
   "outputs": [],
   "source": [
    "# previous energies\n",
    "previous_energies_1=np.load('file_with_previously_performed_names')\n",
    "print(previous_energies_1[:10])\n",
    "print(np.unique(previous_energies_1).shape)\n",
    "previous_energies_1.shape\n",
    "\n",
    "# previous forces\n",
    "\n",
    "previous_forces_1=np.load('file_with_previously_performed_names')\n",
    "print(previous_forces_1[:10])\n",
    "print(np.unique(previous_forces_1).shape)\n",
    "previous_forces_1.shape\n"
   ]
  },
  {
   "cell_type": "code",
   "execution_count": null,
   "id": "eb78a4ee",
   "metadata": {},
   "outputs": [],
   "source": [
    "# load all the dump files\n",
    "\n",
    "with open(\"energies_model_\"+str(1).zfill(2), \"rb\") as fp:   # Unpickling\n",
    "    \n",
    "    NN_1 = pickle.load(fp)\n",
    " "
   ]
  },
  {
   "cell_type": "code",
   "execution_count": null,
   "id": "dd394bf8",
   "metadata": {},
   "outputs": [],
   "source": [
    "# transform into np array\n",
    "NN_1_energy =torch.stack(NN_1).detach().numpy()\n",
    "NN_2_energy =torch.stack(NN_2).detach().numpy()\n",
    "NN_3_energy =torch.stack(NN_3).detach().numpy()\n",
    "NN_4_energy =torch.stack(NN_4).detach().numpy()\n",
    "NN_5_energy =torch.stack(NN_5).detach().numpy()"
   ]
  },
  {
   "cell_type": "code",
   "execution_count": null,
   "id": "65363a92",
   "metadata": {},
   "outputs": [],
   "source": [
    "# make one array\n",
    "all_energy=np.array([NN_1_energy,NN_2_energy,NN_3_energy,NN_4_energy,NN_5_energy])\n",
    "all_energy.shape"
   ]
  },
  {
   "cell_type": "code",
   "execution_count": null,
   "id": "91c1b90b",
   "metadata": {},
   "outputs": [],
   "source": [
    "# remove all previous \n",
    "all_energy=all_energy[:,ndx_2_keep]\n",
    "all_energy.shape"
   ]
  },
  {
   "cell_type": "code",
   "execution_count": null,
   "id": "7edfa89f",
   "metadata": {},
   "outputs": [],
   "source": [
    "# now for forces\n",
    "\n",
    "with open(\"forces_model_\"+str(1).zfill(2), \"rb\") as fp:   # Unpickling\n",
    "    \n",
    "    NN_1_force = pickle.load(fp)\n",
    "    \n",
    "with open(\"forces_model_\"+str(2).zfill(2), \"rb\") as fp:   # Unpickling\n",
    "    \n",
    "    NN_2_force = pickle.load(fp)\n",
    "    \n",
    "with open(\"forces_model_\"+str(3).zfill(2), \"rb\") as fp:   # Unpickling\n",
    "    \n",
    "    NN_3_force = pickle.load(fp)\n",
    "    \n",
    "with open(\"forces_model_\"+str(4).zfill(2), \"rb\") as fp:   # Unpickling\n",
    "    \n",
    "    NN_4_force = pickle.load(fp)\n",
    "    \n",
    "with open(\"forces_model_\"+str(5).zfill(2), \"rb\") as fp:   # Unpickling\n",
    "    \n",
    "    NN_5_force = pickle.load(fp)"
   ]
  },
  {
   "cell_type": "code",
   "execution_count": null,
   "id": "4d1b1461",
   "metadata": {},
   "outputs": [],
   "source": [
    "NN_1_force =torch.cat(NN_1_force).detach().numpy()\n",
    "NN_2_force =torch.cat(NN_2_force).detach().numpy()\n",
    "NN_3_force =torch.cat(NN_3_force).detach().numpy()\n",
    "NN_4_force =torch.cat(NN_4_force).detach().numpy()\n",
    "NN_5_force =torch.cat(NN_5_force).detach().numpy()"
   ]
  },
  {
   "cell_type": "code",
   "execution_count": null,
   "id": "4e70709e",
   "metadata": {},
   "outputs": [],
   "source": [
    "all_forces=np.array([NN_1_force,NN_2_force,NN_3_force,NN_4_force,NN_5_force])\n",
    "all_forces.shape"
   ]
  },
  {
   "cell_type": "markdown",
   "id": "47afbc17",
   "metadata": {},
   "source": [
    "# Step 4"
   ]
  },
  {
   "cell_type": "code",
   "execution_count": null,
   "id": "45ffb465",
   "metadata": {},
   "outputs": [],
   "source": [
    "std_all=all_energy.std(axis=0)\n",
    "std_all.shape"
   ]
  },
  {
   "cell_type": "code",
   "execution_count": null,
   "id": "b9aade7a",
   "metadata": {},
   "outputs": [],
   "source": [
    "# uncertain energies\n",
    "\n",
    "percentile_of_interest=np.percentile(std_all,99.99)\n",
    "print(percentile_of_interest)\n",
    "\n",
    "index_all=np.arange(len(std_all))\n",
    "\n",
    "index_of_interest=index_all[std_all>percentile_of_interest]\n",
    "print(len(index_of_interest))\n",
    "\n",
    "energy_uncertain_configs=np.array(name_list_energy_AL)[index_of_interest]\n",
    "\n",
    "# certain forces\n",
    "\n",
    "percentile_of_interest_certain=np.percentile(std_all,.01)\n",
    "print(percentile_of_interest_certain)\n",
    "\n",
    "index_all_certain=np.arange(len(std_all))\n",
    "print(len(index_all_certain))\n",
    "\n",
    "index_of_interest_certain=index_all_certain[std_all<percentile_of_interest_certain]\n",
    "print(len(index_of_interest_certain))\n",
    "\n",
    "energy_certain_configs=np.array(name_list_energy_AL)[index_of_interest_certain]"
   ]
  },
  {
   "cell_type": "code",
   "execution_count": null,
   "id": "deb2ffec",
   "metadata": {},
   "outputs": [],
   "source": [
    "std_all_forces=all_forces.std(axis=0)\n",
    "std_all_forces.shape"
   ]
  },
  {
   "cell_type": "code",
   "execution_count": null,
   "id": "f5fb788d",
   "metadata": {},
   "outputs": [],
   "source": [
    "# uncertain forces\n",
    "percentile_of_interest_forces=np.percentile(std_all_forces,99.9999)\n",
    "print(percentile_of_interest_forces)\n",
    "\n",
    "index_all_forces=np.arange(len(std_all_forces))\n",
    "\n",
    "index_of_interest_forces=index_all_forces[std_all_forces>percentile_of_interest_forces]\n",
    "print(len(index_of_interest_forces))\n",
    "\n",
    "print(std_all_forces[index_of_interest_forces[0]])\n",
    "\n",
    "print(all_forces[:,index_of_interest_forces[0]])\n",
    "\n",
    "forces_uncertain_configs=np.unique(np.array(name_list_forces_AL)[index_of_interest_forces])\n",
    "print('Uncertain Forces',forces_uncertain_configs.shape)\n",
    "\n",
    "# certain forces\n",
    "\n",
    "percentile_of_interest_certain_forces=np.percentile(std_all_forces,.0001)\n",
    "print(percentile_of_interest_certain_forces)\n",
    "\n",
    "index_all_certain_forces=np.arange(len(std_all_forces))\n",
    "\n",
    "index_of_interest_certain_forces=index_all_certain_forces[std_all_forces<percentile_of_interest_certain_forces]\n",
    "print(len(index_of_interest_certain_forces))\n",
    "\n",
    "forces_certain_configs=np.unique(np.array(name_list_forces_AL)[index_of_interest_certain_forces])\n",
    "print('Certain Forces',forces_certain_configs.shape)"
   ]
  },
  {
   "cell_type": "markdown",
   "id": "ddfbc1df",
   "metadata": {},
   "source": [
    "# Step 5\n"
   ]
  },
  {
   "cell_type": "code",
   "execution_count": null,
   "id": "57f07297",
   "metadata": {},
   "outputs": [],
   "source": []
  },
  {
   "cell_type": "markdown",
   "id": "779484db",
   "metadata": {},
   "source": [
    "# Steps\n",
    "\n",
    "1) Train 5 NN potentials using Fitsnap Library. TODO: Save `Ni_Pytorch.pt` files\n",
    "\n",
    "2) Evaluate the 5 NN potentials using Fitsnap Library\n",
    "\n",
    "3) Remove from evaluated results the configurations you already performed\n",
    "\n",
    "4) Select the N most certain and uncertain\n",
    "\n",
    "5) Run them using VASP. TODO Drew.\n",
    "\n",
    "6) Repeat"
   ]
  },
  {
   "cell_type": "code",
   "execution_count": null,
   "id": "e97ce21d",
   "metadata": {},
   "outputs": [],
   "source": []
  }
 ],
 "metadata": {
  "kernelspec": {
   "display_name": "fitsnap",
   "language": "python",
   "name": "python3"
  },
  "language_info": {
   "codemirror_mode": {
    "name": "ipython",
    "version": 3
   },
   "file_extension": ".py",
   "mimetype": "text/x-python",
   "name": "python",
   "nbconvert_exporter": "python",
   "pygments_lexer": "ipython3",
   "version": "3.10.11"
  }
 },
 "nbformat": 4,
 "nbformat_minor": 5
}

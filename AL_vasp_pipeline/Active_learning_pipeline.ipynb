{
 "cells": [
  {
   "cell_type": "code",
   "execution_count": 1,
   "id": "d1cf0f8d",
   "metadata": {},
   "outputs": [
    {
     "name": "stdout",
     "output_type": "stream",
     "text": [
      "LAMMPS (15 Sep 2022)\n",
      "<lammps.core.lammps object at 0x7ffb648a75b0>\n"
     ]
    }
   ],
   "source": [
    "# Check the lammps is working\n",
    "import lammps\n",
    "lmp = lammps.lammps()\n",
    "print(lmp)\n"
   ]
  },
  {
   "cell_type": "code",
   "execution_count": 2,
   "id": "dfe2b1e2",
   "metadata": {},
   "outputs": [],
   "source": [
    "import numpy as np\n",
    "from fitsnap3lib.fitsnap import FitSnap"
   ]
  },
  {
   "cell_type": "markdown",
   "id": "5055dc6c",
   "metadata": {},
   "source": [
    "# Step 1: Train the Ensemble of NNs\n",
    "## Define the setting dictionary for training the NNs"
   ]
  },
  {
   "cell_type": "code",
   "execution_count": 3,
   "id": "02164522",
   "metadata": {},
   "outputs": [],
   "source": [
    "# Create an input dictionary containing settings.\n",
    "\n",
    "settings = \\\n",
    "{\n",
    "\"BISPECTRUM\":\n",
    "    {\n",
    "    \"numTypes\": 1,\n",
    "    \"twojmax\": 8,\n",
    "    \"rcutfac\": 4.1,\n",
    "    \"rfac0\": 0.99363,\n",
    "    \"rmin0\": 0.0,\n",
    "    \"wj\": 1.0,\n",
    "    \"radelem\": 0.5,\n",
    "    \"type\": \"Ni\",\n",
    "    \"wselfallflag\": 0,\n",
    "    \"chemflag\": 0,\n",
    "    \"bzeroflag\": 0,\n",
    "    \"quadraticflag\": 0,\n",
    "     \"bikflag\": 1,\n",
    "    \"dgradflag\": 1,\n",
    "    },\n",
    "\"CALCULATOR\":\n",
    "    {\n",
    "    \"calculator\": \"LAMMPSSNAP\",\n",
    "    \"energy\": 1,\n",
    "    \"per_atom_energy\": 1,\n",
    "    \"force\": 1,\n",
    "    \"stress\": 0,\n",
    "        \"nonlinear\": 1\n",
    "    },\n",
    "\"ESHIFT\":\n",
    "    {\n",
    "    \"Ni\": 0.0\n",
    "    },\n",
    "\"PYTORCH\":\n",
    "    {\n",
    "    \"layer_sizes\": \"num_desc 55 64 32 16 1\",\n",
    "    \"learning_rate\": 1.5e-4,\n",
    "    \"num_epochs\": 10,\n",
    "    \"batch_size\": 4, # 363 configs in entire set\n",
    "    \"save_state_output\": \"Ni_Pytorch.pt\",\n",
    "     \"energy_weight\": 1.0,\n",
    "        \"force_weight\": 10.0,\n",
    "        \"training_fraction\": 1\n",
    "    },\n",
    "\"SOLVER\":\n",
    "    {\n",
    "    \"solver\": \"PYTORCH\",\n",
    "    \"compute_testerrs\": 1,\n",
    "    \"detailed_errors\": 1\n",
    "    },\n",
    "\"SCRAPER\":\n",
    "    {\n",
    "    \"scraper\": \"JSON\" \n",
    "    },\n",
    "\"PATH\":\n",
    "    {\n",
    "    \"dataPath\": \"/home/localdmonte/fs-ensembles/AL_vasp_pipeline/Initial_training_set\"\n",
    "    },\n",
    "\"OUTFILE\":\n",
    "    {\n",
    "    \"metrics\": \"Ni_metrics.md\",\n",
    "    \"potential\": \"Ni_pot\"\n",
    "    },\n",
    "\"REFERENCE\":\n",
    "    {\n",
    "    \"units\": \"metal\",\n",
    "    \"atom_style\": \"atomic\",\n",
    "    \"pair_style\": \"zero 10.0\",\n",
    "    \"pair_coeff1\": \"* *\",\n",
    "    },\n",
    "\"EXTRAS\":\n",
    "    {\n",
    "    \"dump_peratom\": 1,\n",
    "    \"dump_perconfig\": 1\n",
    "    },\n",
    "\"GROUPS\":\n",
    "    {\n",
    "    \"group_sections\": \"name training_size testing_size eweight fweight vweight\",\n",
    "    \"group_types\": \"str float float float float float\",\n",
    "    \"smartweights\": 0,\n",
    "    \"random_sampling\": 0,\n",
    "    \"Ni_JSON\" :  \"1  0  1.0e6 1.0e6 1.0e-12\"\n",
    "    }\n",
    "}"
   ]
  },
  {
   "cell_type": "code",
   "execution_count": 4,
   "id": "886e9777",
   "metadata": {},
   "outputs": [
    {
     "name": "stdout",
     "output_type": "stream",
     "text": [
      "----- Global weights set: Overriding group weights.\n",
      "----- Global training fraction set: Overriding group fractions.\n"
     ]
    }
   ],
   "source": [
    "#start unstance of fitsnap\n",
    "fs = FitSnap(settings, arglist=[\"--overwrite\"])"
   ]
  },
  {
   "cell_type": "code",
   "execution_count": 5,
   "id": "4a3a8775",
   "metadata": {},
   "outputs": [
    {
     "name": "stdout",
     "output_type": "stream",
     "text": [
      "'scrape_configs' took 169.42 ms on rank 0\n"
     ]
    }
   ],
   "source": [
    "# scrape data\n",
    "fs.scrape_configs()"
   ]
  },
  {
   "cell_type": "code",
   "execution_count": 6,
   "id": "c7b4028e",
   "metadata": {},
   "outputs": [
    {
     "name": "stdout",
     "output_type": "stream",
     "text": [
      "294\n"
     ]
    }
   ],
   "source": [
    "print(len(fs.data))"
   ]
  },
  {
   "cell_type": "code",
   "execution_count": 7,
   "id": "1daab877",
   "metadata": {},
   "outputs": [
    {
     "name": "stdout",
     "output_type": "stream",
     "text": [
      "{'AtomTypeStyle': 'chemicalsymbol', 'EnergyStyle': 'electronvolt', 'ForcesStyle': 'electronvoltperangstrom', 'LatticeStyle': 'angstrom', 'PositionsStyle': 'angstrom', 'StressStyle': 'kB', 'File': 'Mo_100_vasp_1.json', 'Group': 'Ni_JSON', 'AtomTypes': ['Ni', 'Ni', 'Ni', 'Ni', 'Ni', 'Ni', 'Ni', 'Ni', 'Ni', 'Ni', 'Ni', 'Ni', 'Ni', 'Ni', 'Ni', 'Ni', 'Ni', 'Ni', 'Ni', 'Ni', 'Ni', 'Ni', 'Ni', 'Ni', 'Ni', 'Ni', 'Ni', 'Ni', 'Ni', 'Ni', 'Ni', 'Ni', 'Ni', 'Ni', 'Ni', 'Ni', 'Ni', 'Ni', 'Ni', 'Ni', 'Ni', 'Ni', 'Ni', 'Ni', 'Ni', 'Ni', 'Ni', 'Ni', 'Ni', 'Ni', 'Ni', 'Ni', 'Ni', 'Ni', 'Ni', 'Ni', 'Ni', 'Ni', 'Ni', 'Ni', 'Ni', 'Ni', 'Ni', 'Ni', 'Ni', 'Ni', 'Ni', 'Ni', 'Ni', 'Ni', 'Ni', 'Ni', 'Ni', 'Ni', 'Ni', 'Ni', 'Ni', 'Ni', 'Ni', 'Ni', 'Ni', 'Ni', 'Ni', 'Ni', 'Ni', 'Ni', 'Ni', 'Ni', 'Ni', 'Ni', 'Ni', 'Ni', 'Ni', 'Ni', 'Ni', 'Ni', 'Ni', 'Ni', 'Ni', 'Ni', 'Ni', 'Ni', 'Ni', 'Ni', 'Ni', 'Ni', 'Ni', 'Ni'], 'Energy': -561.18942947, 'Forces': array([[ 4.14984213e-01, -1.58116987e+00, -7.58907533e-02],\n",
      "       [ 5.37640867e-01, -3.65670927e-01, -4.44046790e-01],\n",
      "       [-8.16751857e-01, -6.83032274e-01, -7.01962268e-01],\n",
      "       [ 9.20659489e-01, -1.11765480e-01,  1.76851044e+00],\n",
      "       [ 3.31909597e-01, -2.82135700e-01,  5.28172035e-02],\n",
      "       [-4.15465153e-01, -1.47726056e+00, -1.11992605e+00],\n",
      "       [ 5.16489201e-01,  9.76424466e-01,  3.03384623e-01],\n",
      "       [-1.08364534e+00,  8.41590271e-01,  1.09828453e-02],\n",
      "       [-7.45119927e-01, -3.26491003e-01,  6.09426657e-01],\n",
      "       [ 1.86589437e+00,  5.85557433e-01,  8.70953927e-01],\n",
      "       [-8.71035465e-01, -4.92541730e-01, -1.20809354e+00],\n",
      "       [ 1.27595269e-01,  2.34717971e-02,  1.29211691e+00],\n",
      "       [ 6.27090231e-01, -7.10898975e-01,  7.73098565e-01],\n",
      "       [ 1.70123406e+00,  1.02732064e+00,  1.28569409e+00],\n",
      "       [-2.43367277e+00,  1.41538838e+00,  9.68789693e-02],\n",
      "       [ 2.23393638e-01,  1.88671854e+00, -3.84520335e-01],\n",
      "       [-1.94660630e+00, -5.19991001e-01,  4.06317679e-01],\n",
      "       [ 1.96340021e+00,  1.26594352e+00, -1.00602996e-01],\n",
      "       [-2.64112087e-01, -1.26783019e+00,  5.61335167e-01],\n",
      "       [ 3.08710730e-01, -4.82641616e-01,  1.51917333e+00],\n",
      "       [ 8.96388928e-02, -3.49969120e-01, -9.80153522e-01],\n",
      "       [-1.60236357e-02, -8.25114498e-01,  1.64584137e+00],\n",
      "       [ 3.18240756e-01, -1.23037944e+00, -1.39944013e+00],\n",
      "       [-1.25557205e-01,  6.03100926e-01, -3.28101074e-01],\n",
      "       [ 5.08772316e-02,  4.99022665e-01, -8.26331115e-01],\n",
      "       [ 1.49555053e-01,  2.00995088e-01,  8.56953201e-01],\n",
      "       [ 1.07374595e+00, -3.72290527e-01,  7.50662411e-01],\n",
      "       [ 9.18370640e-01,  1.33073529e+00, -5.16388354e-01],\n",
      "       [-4.42858317e-02,  2.34717921e-01,  4.43786856e-01],\n",
      "       [-8.19110486e-01, -5.88559484e-01,  6.30522132e-01],\n",
      "       [-1.86637146e+00,  7.90969222e-01, -7.63066858e-01],\n",
      "       [ 8.49600987e-01, -3.95780429e-01, -6.67602210e-01],\n",
      "       [ 2.10287709e-01,  7.71180989e-01, -7.72552476e-01],\n",
      "       [-1.75599407e+00, -8.28317205e-01, -6.17850620e-01],\n",
      "       [ 3.07427596e-02, -6.48766515e-01, -4.67915309e-01],\n",
      "       [-6.01196517e-01, -8.76381147e-02,  5.23610236e-01],\n",
      "       [-3.61332728e-01,  1.87687812e-01,  7.64438558e-01],\n",
      "       [-8.25143165e-01,  1.87522809e+00,  1.66148766e-01],\n",
      "       [-7.79356717e-03, -7.79105536e-01, -1.43699774e-01],\n",
      "       [ 3.06450396e-02, -6.05333011e-01,  1.13737962e+00],\n",
      "       [-9.66088867e-01,  1.17129167e+00, -1.43566202e+00],\n",
      "       [ 1.49034721e+00, -1.81664249e+00,  4.27066485e-01],\n",
      "       [ 5.57711739e-01, -1.85503207e-01, -1.70938787e-01],\n",
      "       [ 1.83211502e+00,  2.17147912e-01,  3.21498892e-01],\n",
      "       [-1.70640147e-01,  5.08881089e-01, -4.02769224e-01],\n",
      "       [ 1.37086590e+00,  2.87755240e-01, -5.18507801e-01],\n",
      "       [-6.99370232e-01, -4.96800839e-01,  3.31645396e-01],\n",
      "       [-4.10403425e-01, -3.78181606e-01, -1.40626049e+00],\n",
      "       [ 1.29586053e+00, -8.55517916e-01, -3.72057613e-02],\n",
      "       [-1.64926059e+00,  2.00925142e+00,  8.70346509e-01],\n",
      "       [ 3.34248410e-01,  2.31901217e-02, -5.63961031e-01],\n",
      "       [ 8.05039707e-01,  2.24655731e-03, -1.44025942e+00],\n",
      "       [ 2.18572841e-02,  1.76565916e+00, -1.09060881e+00],\n",
      "       [ 2.26770044e+00,  7.03658566e-01,  1.44880754e-01],\n",
      "       [-4.42193873e-01, -4.92120863e-01, -1.25417154e+00],\n",
      "       [ 1.01606177e+00, -1.10229355e+00,  5.87317377e-01],\n",
      "       [ 2.05630720e-01,  6.54708841e-01, -6.16006173e-01],\n",
      "       [-4.15652912e-03,  1.37877745e-01,  1.11532104e-01],\n",
      "       [ 4.43608209e-01, -9.27525652e-01,  5.42438638e-01],\n",
      "       [ 6.30675355e-01,  7.75856045e-01, -2.41983595e-01],\n",
      "       [ 5.24081956e-01,  2.99766604e-01, -1.61048066e-02],\n",
      "       [ 6.32749614e-01, -1.48477721e+00, -2.52310712e-01],\n",
      "       [ 6.13808478e-01, -2.49758660e-02,  6.55625074e-01],\n",
      "       [-1.02470877e+00, -5.43722264e-01, -6.20266920e-01],\n",
      "       [ 7.92252227e-01,  2.04533120e+00,  6.98879772e-01],\n",
      "       [ 7.90758000e-02,  3.46679533e-01,  2.65457063e-01],\n",
      "       [-6.66218666e-01,  6.81868369e-01, -1.04156760e+00],\n",
      "       [ 3.14102928e-01,  1.02431599e+00, -1.78839012e+00],\n",
      "       [-1.28024760e+00,  3.97125993e-01, -9.34931072e-01],\n",
      "       [ 5.87308017e-01,  2.38932854e-01, -4.12313643e-01],\n",
      "       [ 4.36219732e-01,  6.35599694e-01, -4.59449732e-01],\n",
      "       [-5.98492722e-01,  1.64770433e-02,  2.86214000e-01],\n",
      "       [ 1.61968449e-01, -1.94366964e+00,  1.36509478e-01],\n",
      "       [-4.16321215e-01,  9.54098667e-01, -5.01165982e-01],\n",
      "       [ 8.70800760e-01,  2.14718531e-01, -9.13075664e-01],\n",
      "       [ 1.70278093e-01,  3.11659360e-01, -6.35563020e-01],\n",
      "       [ 3.46560484e-01,  1.73568017e+00,  7.79176331e-01],\n",
      "       [-1.55910720e+00, -1.04110749e+00,  1.36188651e+00],\n",
      "       [-4.01561553e-01,  7.33956201e-01, -8.85847777e-01],\n",
      "       [ 1.49883323e+00,  1.26424998e-01,  1.21820696e-01],\n",
      "       [-8.48158011e-01,  1.47771188e-01,  5.35904487e-01],\n",
      "       [-6.29869262e-01,  4.07964907e-01,  1.58746560e-01],\n",
      "       [ 2.78348445e-02, -5.78150419e-01,  4.29992607e-01],\n",
      "       [ 7.06754932e-01, -5.10651581e-01,  5.85949299e-01],\n",
      "       [ 2.96057980e-01,  3.08268055e+00, -1.40043950e-01],\n",
      "       [-1.65356500e+00,  3.43390119e-02,  4.11195804e-02],\n",
      "       [-5.08648695e-01, -1.86848179e-01,  2.36542902e-01],\n",
      "       [ 1.88959748e-02,  4.95331181e-01, -6.42844902e-01],\n",
      "       [ 3.62058741e-02, -3.54863209e-01,  1.04805313e+00],\n",
      "       [ 5.03531150e-01, -6.79566188e-01, -4.54614203e-01],\n",
      "       [ 4.97836047e-01, -1.89181230e+00, -8.24720065e-01],\n",
      "       [ 5.95059078e-01,  5.36717058e-01, -3.63361031e-01],\n",
      "       [-1.11782468e+00,  4.97743485e-01, -7.11737845e-01],\n",
      "       [ 1.94539527e+00, -9.07201677e-01,  1.06968431e+00],\n",
      "       [-1.57920573e+00, -7.59456346e-01, -2.57849868e-01],\n",
      "       [-1.13256152e-01, -1.97626041e-01, -2.04855876e-01],\n",
      "       [-1.03037325e+00, -4.88030441e-01, -8.30655979e-01],\n",
      "       [-1.12883389e+00, -1.27817766e-01,  7.40978225e-01],\n",
      "       [-1.37140852e+00, -5.39707288e-01,  2.89339319e-02],\n",
      "       [-6.40624390e-01, -3.16270719e-02,  1.86634609e+00],\n",
      "       [ 1.05468431e+00, -2.74008116e+00,  2.77884363e-01],\n",
      "       [ 5.32799161e-01, -2.00641524e-01, -2.65102437e-01],\n",
      "       [-9.91203017e-01, -2.74233984e-01,  4.13085174e-02],\n",
      "       [ 1.45417256e-03, -1.47763497e+00,  1.34240655e+00],\n",
      "       [-1.15650734e+00,  1.29860091e+00,  1.18102762e-01],\n",
      "       [-3.87061373e-01, -9.26861187e-01,  3.98789862e-01],\n",
      "       [ 1.30002835e-01, -2.65623227e-01, -1.71751696e-01],\n",
      "       [-4.62453324e-01,  4.06596410e-01,  9.91927907e-01]]), 'NumAtoms': 108, 'Positions': array([[ 3.41727198,  0.27366726, 10.45395786],\n",
      "       [ 3.35879453, 10.55761038,  3.67248764],\n",
      "       [ 3.59017708,  0.0707871 ,  7.1967138 ],\n",
      "       [ 3.47195815,  3.454226  , 10.40295622],\n",
      "       [ 3.50393155,  3.44455693,  3.53234028],\n",
      "       [ 3.62816425,  3.77337767,  7.21988729],\n",
      "       [ 3.45253401,  7.06472122,  0.04941493],\n",
      "       [ 3.66039269,  7.01308872,  3.60526145],\n",
      "       [ 3.65990957,  7.13444456,  7.09354843],\n",
      "       [ 6.93313295, 10.45283706, 10.44591383],\n",
      "       [ 7.14164209,  0.07072885,  3.61058456],\n",
      "       [ 7.07848624,  0.01137916,  6.87408838],\n",
      "       [ 6.92466898,  3.73405787, 10.47879814],\n",
      "       [ 6.82943286,  3.30597261,  3.35685707],\n",
      "       [ 7.2390379 ,  3.36611288,  7.0251453 ],\n",
      "       [ 7.07730255,  6.85775355,  0.14411971],\n",
      "       [ 7.28781704,  7.07360582,  3.48722996],\n",
      "       [ 6.91634453,  6.89793153,  6.97042925],\n",
      "       [10.49438243,  0.15702717, 10.45061917],\n",
      "       [10.46929616,  0.18281194,  3.32991544],\n",
      "       [10.46329364,  0.17777578,  7.14300486],\n",
      "       [ 0.02812827,  3.74147597, 10.40174142],\n",
      "       [10.51411175,  3.5549069 ,  3.53106789],\n",
      "       [ 0.06171383,  3.54728572,  7.14072025],\n",
      "       [ 0.09092075,  7.0420439 ,  0.15851774],\n",
      "       [ 0.03543641,  6.91548593,  3.49194415],\n",
      "       [10.53448141,  6.95874812,  6.83150662],\n",
      "       [ 3.34317868,  1.53362491,  1.8247578 ],\n",
      "       [ 3.42619361,  1.68055114,  5.32909428],\n",
      "       [ 3.66212586,  1.87308386,  8.69064818],\n",
      "       [ 3.7156683 ,  5.14659498,  1.82781407],\n",
      "       [ 3.39979997,  5.30868188,  5.35898179],\n",
      "       [ 3.55587122,  5.31270089,  8.97612065],\n",
      "       [ 3.76761044,  8.91163657,  1.89249772],\n",
      "       [ 3.52295106,  8.90683369,  5.43238819],\n",
      "       [ 3.6003129 ,  8.85524649,  8.79734887],\n",
      "       [ 7.0601346 ,  1.65379965,  1.6112857 ],\n",
      "       [ 7.1496056 ,  1.62318871,  5.23043733],\n",
      "       [ 7.04154935,  1.83268722,  8.8269891 ],\n",
      "       [ 6.9861254 ,  5.30240355,  1.76949694],\n",
      "       [ 7.10430375,  4.90068112,  5.32805118],\n",
      "       [ 6.98799174,  5.55399673,  8.80716102],\n",
      "       [ 6.9822371 ,  8.86000523,  1.83778892],\n",
      "       [ 6.88114466,  8.6676189 ,  5.23805141],\n",
      "       [ 7.16301642,  8.60732781,  8.85097712],\n",
      "       [10.40315449,  1.87056968,  1.61240587],\n",
      "       [ 0.05738497,  1.88271883,  5.23521067],\n",
      "       [10.49959274,  1.92531059,  8.96413627],\n",
      "       [10.51156726,  5.35572317,  1.75438325],\n",
      "       [ 0.25089538,  5.05259875,  5.23176614],\n",
      "       [ 0.02688711,  5.35910563,  8.76250145],\n",
      "       [10.50778737,  8.74023924,  2.00066951],\n",
      "       [10.46069257,  8.59662136,  5.33789736],\n",
      "       [10.31219087,  8.79751286,  8.64958443],\n",
      "       [ 1.81732521,  3.49795358,  1.77076437],\n",
      "       [ 1.80869492,  3.51995087,  5.31814281],\n",
      "       [ 1.76592772,  3.53136754,  8.84006737],\n",
      "       [ 1.88002279,  7.0385761 ,  1.87305485],\n",
      "       [ 1.77367763,  7.10163829,  5.21327042],\n",
      "       [ 1.65413731,  7.08284762,  8.84331641],\n",
      "       [ 1.60313799, 10.50310301,  1.74763601],\n",
      "       [ 1.53952955,  0.18384196,  5.36244226],\n",
      "       [ 1.63341631,  0.02232377,  8.68686765],\n",
      "       [ 5.3326414 ,  3.47564233,  1.71994132],\n",
      "       [ 5.16732679,  3.2325705 ,  5.30291728],\n",
      "       [ 5.36134456,  3.51894616,  8.78387379],\n",
      "       [ 5.39700711,  7.00998928,  2.00260216],\n",
      "       [ 5.24689768,  6.78375438,  5.46041954],\n",
      "       [ 5.3539673 ,  7.08891169,  9.00852505],\n",
      "       [ 5.24239937,  0.0559068 ,  1.90163453],\n",
      "       [ 5.2074897 , 10.54674193,  5.36121216],\n",
      "       [ 5.43913191, 10.51185467,  8.72313114],\n",
      "       [ 8.74179481,  3.82153961,  1.60957634],\n",
      "       [ 8.86487838,  3.33270815,  5.20761332],\n",
      "       [ 8.65254744,  3.62828964,  8.92516032],\n",
      "       [ 8.81239899,  7.01372485,  1.82239635],\n",
      "       [ 8.76659603,  6.7480866 ,  5.14443735],\n",
      "       [ 8.98086904,  7.04984917,  8.49972594],\n",
      "       [ 8.80946262, 10.41092208,  1.70995239],\n",
      "       [ 8.78589136,  0.01526958,  5.26558538],\n",
      "       [ 8.77534249,  0.03984456,  8.71878352],\n",
      "       [ 1.73976691,  1.74208584,  3.48804819],\n",
      "       [ 1.7765118 ,  1.89946411,  7.0751388 ],\n",
      "       [ 1.63950554,  1.86071856, 10.50682316],\n",
      "       [ 1.78914796,  4.92150562,  3.47936594],\n",
      "       [ 1.97523358,  5.38987578,  7.14282701],\n",
      "       [ 1.8644421 ,  5.3225216 ,  0.06514517],\n",
      "       [ 1.7314649 ,  8.7961603 ,  3.66937359],\n",
      "       [ 1.68183242,  8.88871992,  6.90497532],\n",
      "       [ 1.62828681,  8.95250065,  0.0262172 ],\n",
      "       [ 5.11510543,  1.80352817,  3.5829061 ],\n",
      "       [ 5.30045194,  1.70351409,  7.07420107],\n",
      "       [ 5.39333406,  1.68435121,  0.04927275],\n",
      "       [ 5.11750735,  5.24711778,  3.56699165],\n",
      "       [ 5.5058079 ,  5.18693491,  7.10750026],\n",
      "       [ 5.23619037,  5.34978196,  0.07960349],\n",
      "       [ 5.36140504,  8.88955028,  3.6684516 ],\n",
      "       [ 5.47536752,  8.79340295,  7.02808781],\n",
      "       [ 5.41741259,  8.81915151,  0.0612301 ],\n",
      "       [ 8.79746917,  1.87090727,  3.1400711 ],\n",
      "       [ 8.8692791 ,  2.02363467,  7.09787609],\n",
      "       [ 8.64811825,  1.84396005, 10.56739371],\n",
      "       [ 8.88286371,  5.1778965 ,  3.51478008],\n",
      "       [ 8.85454937,  5.30687853,  6.8482335 ],\n",
      "       [ 8.94982177,  5.34909731, 10.45588405],\n",
      "       [ 8.83509656,  8.92695795,  3.57365203],\n",
      "       [ 8.67060207,  8.80999001,  6.90829498],\n",
      "       [ 8.89521957,  8.66107775, 10.47387592]]), 'Stress': array([[58.45155, -5.05856,  1.00287],\n",
      "       [-5.05856, 50.69933, -4.04949],\n",
      "       [ 1.00287, -4.04949, 61.23011]]), 'QMLattice': array([[ 1.0568971e+01,  3.2400000e-04,  0.0000000e+00],\n",
      "       [ 0.0000000e+00,  1.0567033e+01,  0.0000000e+00],\n",
      "       [-1.2820000e-03,  2.6000000e-04,  1.0568299e+01]]), 'test_bool': 0, 'Lattice': array([[ 1.05689711e+01,  3.23968460e-04, -1.28191848e-03],\n",
      "       [ 0.00000000e+00,  1.05670330e+01,  2.60070451e-04],\n",
      "       [ 0.00000000e+00,  0.00000000e+00,  1.05682989e+01]]), 'Rotation': array([[ 9.99999993e-01,  0.00000000e+00, -1.21298468e-04],\n",
      "       [ 2.98497871e-09,  1.00000000e+00,  2.46085440e-05],\n",
      "       [ 1.21298468e-04, -2.46085442e-05,  9.99999992e-01]]), 'Translation': array([[0., 0., 0.],\n",
      "       [0., 0., 0.],\n",
      "       [0., 0., 0.],\n",
      "       [0., 0., 0.],\n",
      "       [0., 0., 0.],\n",
      "       [0., 0., 0.],\n",
      "       [0., 0., 0.],\n",
      "       [0., 0., 0.],\n",
      "       [0., 0., 0.],\n",
      "       [0., 0., 0.],\n",
      "       [0., 0., 0.],\n",
      "       [0., 0., 0.],\n",
      "       [0., 0., 0.],\n",
      "       [0., 0., 0.],\n",
      "       [0., 0., 0.],\n",
      "       [0., 0., 0.],\n",
      "       [0., 0., 0.],\n",
      "       [0., 0., 0.],\n",
      "       [0., 0., 0.],\n",
      "       [0., 0., 0.],\n",
      "       [0., 0., 0.],\n",
      "       [0., 0., 0.],\n",
      "       [0., 0., 0.],\n",
      "       [0., 0., 0.],\n",
      "       [0., 0., 0.],\n",
      "       [0., 0., 0.],\n",
      "       [0., 0., 0.],\n",
      "       [0., 0., 0.],\n",
      "       [0., 0., 0.],\n",
      "       [0., 0., 0.],\n",
      "       [0., 0., 0.],\n",
      "       [0., 0., 0.],\n",
      "       [0., 0., 0.],\n",
      "       [0., 0., 0.],\n",
      "       [0., 0., 0.],\n",
      "       [0., 0., 0.],\n",
      "       [0., 0., 0.],\n",
      "       [0., 0., 0.],\n",
      "       [0., 0., 0.],\n",
      "       [0., 0., 0.],\n",
      "       [0., 0., 0.],\n",
      "       [0., 0., 0.],\n",
      "       [0., 0., 0.],\n",
      "       [0., 0., 0.],\n",
      "       [0., 0., 0.],\n",
      "       [0., 0., 0.],\n",
      "       [0., 0., 0.],\n",
      "       [0., 0., 0.],\n",
      "       [0., 0., 0.],\n",
      "       [0., 0., 0.],\n",
      "       [0., 0., 0.],\n",
      "       [0., 0., 0.],\n",
      "       [0., 0., 0.],\n",
      "       [0., 0., 0.],\n",
      "       [0., 0., 0.],\n",
      "       [0., 0., 0.],\n",
      "       [0., 0., 0.],\n",
      "       [0., 0., 0.],\n",
      "       [0., 0., 0.],\n",
      "       [0., 0., 0.],\n",
      "       [0., 0., 0.],\n",
      "       [0., 0., 0.],\n",
      "       [0., 0., 0.],\n",
      "       [0., 0., 0.],\n",
      "       [0., 0., 0.],\n",
      "       [0., 0., 0.],\n",
      "       [0., 0., 0.],\n",
      "       [0., 0., 0.],\n",
      "       [0., 0., 0.],\n",
      "       [0., 0., 0.],\n",
      "       [0., 0., 0.],\n",
      "       [0., 0., 0.],\n",
      "       [0., 0., 0.],\n",
      "       [0., 0., 0.],\n",
      "       [0., 0., 0.],\n",
      "       [0., 0., 0.],\n",
      "       [0., 0., 0.],\n",
      "       [0., 0., 0.],\n",
      "       [0., 0., 0.],\n",
      "       [0., 0., 0.],\n",
      "       [0., 0., 0.],\n",
      "       [0., 0., 0.],\n",
      "       [0., 0., 0.],\n",
      "       [0., 0., 0.],\n",
      "       [0., 0., 0.],\n",
      "       [0., 0., 0.],\n",
      "       [0., 0., 0.],\n",
      "       [0., 0., 0.],\n",
      "       [0., 0., 0.],\n",
      "       [0., 0., 0.],\n",
      "       [0., 0., 0.],\n",
      "       [0., 0., 0.],\n",
      "       [0., 0., 0.],\n",
      "       [0., 0., 0.],\n",
      "       [0., 0., 0.],\n",
      "       [0., 0., 0.],\n",
      "       [0., 0., 0.],\n",
      "       [0., 0., 0.],\n",
      "       [0., 0., 0.],\n",
      "       [0., 0., 0.],\n",
      "       [0., 0., 0.],\n",
      "       [0., 0., 0.],\n",
      "       [0., 0., 0.],\n",
      "       [0., 0., 0.],\n",
      "       [0., 0., 0.],\n",
      "       [0., 0., 0.],\n",
      "       [0., 0., 0.],\n",
      "       [0., 0., 0.]]), 'eweight': 1000000.0, 'fweight': 1000000.0, 'vweight': 1e-12}\n"
     ]
    }
   ],
   "source": [
    "# print out example config\n",
    "print(fs.data[0])"
   ]
  },
  {
   "cell_type": "code",
   "execution_count": 8,
   "id": "138421a8",
   "metadata": {},
   "outputs": [
    {
     "name": "stdout",
     "output_type": "stream",
     "text": [
      "'process_configs' took 27591.63 ms on rank 0\n"
     ]
    }
   ],
   "source": [
    "# calculate the descriptors\n",
    "fs.process_configs()"
   ]
  },
  {
   "cell_type": "code",
   "execution_count": 9,
   "id": "20f00624",
   "metadata": {},
   "outputs": [
    {
     "name": "stdout",
     "output_type": "stream",
     "text": [
      "Epoch   Train       Val     Time (s)\n",
      "OMP_NUM_THREADS environment is not set. Defaulting to 1 thread. (src/comm.cpp:98)\n",
      "  using 1 OpenMP thread(s) per MPI task\n",
      "0  2.029e+01     nan     1.130e+00\n"
     ]
    },
    {
     "name": "stderr",
     "output_type": "stream",
     "text": [
      "/home/localdmonte/.conda/envs/Fitnsap_NN_23/lib/python3.10/site-packages/numpy/core/fromnumeric.py:3432: RuntimeWarning: Mean of empty slice.\n",
      "  return _methods._mean(a, axis=axis, dtype=dtype,\n",
      "/home/localdmonte/.conda/envs/Fitnsap_NN_23/lib/python3.10/site-packages/numpy/core/_methods.py:190: RuntimeWarning: invalid value encountered in double_scalars\n",
      "  ret = ret.dtype.type(ret / rcount)\n"
     ]
    },
    {
     "name": "stdout",
     "output_type": "stream",
     "text": [
      "1  1.413e+00     nan     5.484e-01\n",
      "2  7.715e-01     nan     5.472e-01\n",
      "3  5.638e-01     nan     5.468e-01\n",
      "4  4.425e-01     nan     5.457e-01\n",
      "5  3.588e-01     nan     5.457e-01\n",
      "6  3.037e-01     nan     5.437e-01\n",
      "7  2.555e-01     nan     5.465e-01\n",
      "8  2.185e-01     nan     5.459e-01\n",
      "9  1.932e-01     nan     5.518e-01\n",
      "'fit' took 6084.38 ms on rank 0\n",
      "'error_analysis' took 1079.60 ms on rank 0\n"
     ]
    }
   ],
   "source": [
    "# perform fit\n",
    "fs.perform_fit()"
   ]
  },
  {
   "cell_type": "code",
   "execution_count": 10,
   "id": "f4933b3b",
   "metadata": {},
   "outputs": [
    {
     "name": "stdout",
     "output_type": "stream",
     "text": [
      "total 4516\r\n",
      "drwxrwxr-x. 3 localdmonte localdmonte      29 Aug 15 12:44 Initial_training_set\r\n",
      "drwxrwxr-x. 3 localdmonte localdmonte   32768 Aug 15 12:47 Unlabeled_set\r\n",
      "drwxrwxr-x. 2 localdmonte localdmonte      49 Aug 16 08:20 config_file_Uset\r\n",
      "-rw-rw-r--. 1 localdmonte localdmonte   19819 Aug 16 09:27 Active_learning_pipeline.ipynb\r\n",
      "-rw-rw-r--. 1 localdmonte localdmonte      21 Aug 16 09:29 log.lammps\r\n",
      "-rw-rw-r--. 1 localdmonte localdmonte     540 Aug 16 09:30 loss_vs_epochs.dat\r\n",
      "-rw-rw-r--. 1 localdmonte localdmonte  105215 Aug 16 09:30 FitTorch_Pytorch.pt\r\n",
      "-rw-rw-r--. 1 localdmonte localdmonte   21967 Aug 16 09:30 perconfig.dat\r\n",
      "-rw-rw-r--. 1 localdmonte localdmonte 4450877 Aug 16 09:30 peratom.dat\r\n"
     ]
    }
   ],
   "source": [
    "# Write LAMMPS potential files.\n",
    "fs.output.write_lammps(fs.solver.fit)\n",
    "# Look at files:\n",
    "!ls -rtl\n",
    "\n",
    "#why is it not saving it as Ni_Pytorch?"
   ]
  },
  {
   "cell_type": "markdown",
   "id": "51b8fd72",
   "metadata": {},
   "source": [
    "# Now make look to automate"
   ]
  },
  {
   "cell_type": "code",
   "execution_count": null,
   "id": "aed60a7b",
   "metadata": {},
   "outputs": [],
   "source": [
    "# make a list of instances to loop around\n"
   ]
  },
  {
   "cell_type": "code",
   "execution_count": null,
   "id": "c8720b00",
   "metadata": {},
   "outputs": [],
   "source": [
    "# loop over all instansces and fit\n",
    "\n",
    "#move pt file to a new folder call fits and have the following structure AL_#/NN_#/Ni_pytorch.pt"
   ]
  },
  {
   "cell_type": "markdown",
   "id": "4cd8db20",
   "metadata": {},
   "source": [
    "# Step 2 "
   ]
  },
  {
   "cell_type": "code",
   "execution_count": 11,
   "id": "9440aa3b",
   "metadata": {},
   "outputs": [
    {
     "name": "stdout",
     "output_type": "stream",
     "text": [
      "These are the weights of the nn ['FitTorch_Pytorch.pt']\n"
     ]
    }
   ],
   "source": [
    "import sys\n",
    "import numpy as np\n",
    "import pickle\n",
    "import torch\n",
    "from pathlib import Path\n",
    "import glob\n",
    "# from fitsnap3lib.fitsnap import FitSnap\n",
    "import pickle\n",
    "import time\n",
    "\n",
    "list_of_weights=sorted(glob.glob('*.pt'))\n",
    "print('These are the weights of the nn',list_of_weights)\n"
   ]
  },
  {
   "cell_type": "code",
   "execution_count": 13,
   "id": "b104cbcf",
   "metadata": {},
   "outputs": [
    {
     "name": "stdout",
     "output_type": "stream",
     "text": [
      "config_file_Uset/configs.pickle\r\n"
     ]
    }
   ],
   "source": [
    "!ls config_file_Uset/*.pickle"
   ]
  },
  {
   "cell_type": "code",
   "execution_count": 14,
   "id": "d111b39e",
   "metadata": {},
   "outputs": [
    {
     "name": "stdout",
     "output_type": "stream",
     "text": [
      "Loading config file\n",
      "Total time (s) to load config file 2.3404924869537354\n"
     ]
    }
   ],
   "source": [
    "# load in the config file \n",
    "\n",
    "print('Loading config file')\n",
    "\n",
    "t0 = time.time()\n",
    "\n",
    "with open(r\"config_file_Uset/configs.pickle\", \"rb\") as file:\n",
    "    configs = pickle.load(file)\n",
    "\n",
    "t1 = time.time()\n",
    "total = t1-t0\n",
    "\n",
    "print('Total time (s) to load config file',total)"
   ]
  },
  {
   "cell_type": "code",
   "execution_count": 15,
   "id": "cb07407e",
   "metadata": {},
   "outputs": [],
   "source": [
    "# Create an input dictionary containing settings.\n",
    "\n",
    "settings_eval = \\\n",
    "{\n",
    "\"BISPECTRUM\":\n",
    "    {\n",
    "    \"numTypes\": 1,\n",
    "    \"twojmax\": 8,\n",
    "    \"rcutfac\": 4.1,\n",
    "    \"rfac0\": 0.99363,\n",
    "    \"rmin0\": 0.0,\n",
    "    \"wj\": 1.0,\n",
    "    \"radelem\": 0.5,\n",
    "    \"type\": \"Ni\",\n",
    "    \"wselfallflag\": 0,\n",
    "    \"chemflag\": 0,\n",
    "    \"bzeroflag\": 0,\n",
    "    \"quadraticflag\": 0,\n",
    "     \"bikflag\": 1,\n",
    "    \"dgradflag\": 1,\n",
    "    },\n",
    "\"CALCULATOR\":\n",
    "    {\n",
    "    \"calculator\": \"LAMMPSSNAP\",\n",
    "    \"energy\": 1,\n",
    "    \"per_atom_energy\": 1,\n",
    "    \"force\": 1,\n",
    "    \"stress\": 0,\n",
    "        \"nonlinear\": 1\n",
    "    },\n",
    "\"ESHIFT\":\n",
    "    {\n",
    "    \"Ni\": 0.0\n",
    "    },\n",
    "\"PYTORCH\":\n",
    "    {\n",
    "    \"layer_sizes\": \"num_desc 55 64 32 16 1\",\n",
    "    \"learning_rate\": 1.5e-4,\n",
    "    \"num_epochs\": 10,\n",
    "    \"batch_size\": 4, # 363 configs in entire set\n",
    "    \"save_state_input\": \"FitTorch_Pytorch.pt\",\n",
    "     \"energy_weight\": 1.0,\n",
    "        \"force_weight\": 10.0,\n",
    "        \"training_fraction\": 1\n",
    "    },\n",
    "\"SOLVER\":\n",
    "    {\n",
    "    \"solver\": \"PYTORCH\",\n",
    "    \"compute_testerrs\": 1,\n",
    "    \"detailed_errors\": 1\n",
    "    },\n",
    "\"SCRAPER\":\n",
    "    {\n",
    "    \"scraper\": \"JSON\" \n",
    "    },\n",
    "\"PATH\":\n",
    "    {\n",
    "    \"dataPath\": \"/home/localdmonte/fs-ensembles/AL_vasp_pipeline/Initial_training_set\"\n",
    "    },\n",
    "\"OUTFILE\":\n",
    "    {\n",
    "    \"metrics\": \"Ni_metrics.md\",\n",
    "    \"potential\": \"Ni_pot\"\n",
    "    },\n",
    "\"REFERENCE\":\n",
    "    {\n",
    "    \"units\": \"metal\",\n",
    "    \"atom_style\": \"atomic\",\n",
    "    \"pair_style\": \"zero 10.0\",\n",
    "    \"pair_coeff1\": \"* *\",\n",
    "    },\n",
    "\"EXTRAS\":\n",
    "    {\n",
    "    \"dump_peratom\": 1,\n",
    "    \"dump_perconfig\": 1\n",
    "    },\n",
    "\"GROUPS\":\n",
    "    {\n",
    "    \"group_sections\": \"name training_size testing_size eweight fweight vweight\",\n",
    "    \"group_types\": \"str float float float float float\",\n",
    "    \"smartweights\": 0,\n",
    "    \"random_sampling\": 0,\n",
    "    \"Ni_JSON\" :  \"1  0  1.0e6 1.0e6 1.0e-12\"\n",
    "    }\n",
    "}"
   ]
  },
  {
   "cell_type": "code",
   "execution_count": 16,
   "id": "620e1752",
   "metadata": {},
   "outputs": [
    {
     "name": "stdout",
     "output_type": "stream",
     "text": [
      "[{'BISPECTRUM': {'numTypes': 1, 'twojmax': 8, 'rcutfac': 4.1, 'rfac0': 0.99363, 'rmin0': 0.0, 'wj': 1.0, 'radelem': 0.5, 'type': 'Ni', 'wselfallflag': 0, 'chemflag': 0, 'bzeroflag': 0, 'quadraticflag': 0, 'bikflag': 1, 'dgradflag': 1}, 'CALCULATOR': {'calculator': 'LAMMPSSNAP', 'energy': 1, 'per_atom_energy': 1, 'force': 1, 'stress': 0, 'nonlinear': 1}, 'ESHIFT': {'Ni': 0.0}, 'PYTORCH': {'layer_sizes': 'num_desc 55 64 32 16 1', 'learning_rate': 0.00015, 'num_epochs': 10, 'batch_size': 4, 'save_state_input': 'FitTorch_Pytorch.pt', 'energy_weight': 1.0, 'force_weight': 10.0, 'training_fraction': 1}, 'SOLVER': {'solver': 'PYTORCH', 'compute_testerrs': 1, 'detailed_errors': 1}, 'SCRAPER': {'scraper': 'JSON'}, 'PATH': {'dataPath': '/home/localdmonte/fs-ensembles/AL_vasp_pipeline/Initial_training_set'}, 'OUTFILE': {'metrics': 'Ni_metrics.md', 'potential': 'Ni_pot'}, 'REFERENCE': {'units': 'metal', 'atom_style': 'atomic', 'pair_style': 'zero 10.0', 'pair_coeff1': '* *'}, 'EXTRAS': {'dump_peratom': 1, 'dump_perconfig': 1}, 'GROUPS': {'group_sections': 'name training_size testing_size eweight fweight vweight', 'group_types': 'str float float float float float', 'smartweights': 0, 'random_sampling': 0, 'Ni_JSON': '1  0  1.0e6 1.0e6 1.0e-12'}}]\n"
     ]
    }
   ],
   "source": [
    "# Make a list of settings for each fit.\n",
    "# Declare number of fits.\n",
    "nfits = len(list_of_weights)\n",
    "\n",
    "from copy import deepcopy\n",
    "settings_lst = [deepcopy(settings_eval) for _ in range(nfits)]\n",
    "for i,s in enumerate(settings_lst):\n",
    "    s['PYTORCH']['save_state_input'] = list_of_weights[i]\n",
    "print(settings_lst)"
   ]
  },
  {
   "cell_type": "code",
   "execution_count": 17,
   "id": "41614779",
   "metadata": {},
   "outputs": [
    {
     "name": "stdout",
     "output_type": "stream",
     "text": [
      "----- Global weights set: Overriding group weights.\n",
      "----- Global training fraction set: Overriding group fractions.\n"
     ]
    },
    {
     "ename": "KeyError",
     "evalue": "'a'",
     "output_type": "error",
     "traceback": [
      "\u001b[0;31m---------------------------------------------------------------------------\u001b[0m",
      "\u001b[0;31mKeyError\u001b[0m                                  Traceback (most recent call last)",
      "Cell \u001b[0;32mIn[17], line 6\u001b[0m\n\u001b[1;32m      4\u001b[0m t0 \u001b[38;5;241m=\u001b[39m time\u001b[38;5;241m.\u001b[39mtime()\n\u001b[1;32m      5\u001b[0m inst\u001b[38;5;241m.\u001b[39msolver\u001b[38;5;241m.\u001b[39mconfigs \u001b[38;5;241m=\u001b[39m configs\n\u001b[0;32m----> 6\u001b[0m (energies_model, forces_model) \u001b[38;5;241m=\u001b[39m \u001b[43minst\u001b[49m\u001b[38;5;241;43m.\u001b[39;49m\u001b[43msolver\u001b[49m\u001b[38;5;241;43m.\u001b[39;49m\u001b[43mevaluate_configs\u001b[49m\u001b[43m(\u001b[49m\u001b[43mconfig_idx\u001b[49m\u001b[38;5;241;43m=\u001b[39;49m\u001b[38;5;28;43;01mNone\u001b[39;49;00m\u001b[43m,\u001b[49m\u001b[43m \u001b[49m\u001b[43mstandardize_bool\u001b[49m\u001b[38;5;241;43m=\u001b[39;49m\u001b[38;5;28;43;01mTrue\u001b[39;49;00m\u001b[43m)\u001b[49m\n\u001b[1;32m      7\u001b[0m t1 \u001b[38;5;241m=\u001b[39m time\u001b[38;5;241m.\u001b[39mtime()\n\u001b[1;32m      8\u001b[0m total \u001b[38;5;241m=\u001b[39m t1\u001b[38;5;241m-\u001b[39mt0\n",
      "File \u001b[0;32m~/Fitsnap_4_python_path/FitSNAP/fitsnap3lib/solvers/pytorch.py:807\u001b[0m, in \u001b[0;36mPYTORCH.evaluate_configs\u001b[0;34m(self, config_idx, standardize_bool, dtype, eval_device)\u001b[0m\n\u001b[1;32m    803\u001b[0m             forces\u001b[38;5;241m.\u001b[39mappend(f_model)\n\u001b[1;32m    805\u001b[0m     \u001b[38;5;28;01mreturn\u001b[39;00m(energies, forces)\n\u001b[0;32m--> 807\u001b[0m (energies,forces) \u001b[38;5;241m=\u001b[39m \u001b[43mdecorated_evaluate_configs\u001b[49m\u001b[43m(\u001b[49m\u001b[43m)\u001b[49m\n\u001b[1;32m    809\u001b[0m \u001b[38;5;28;01mreturn\u001b[39;00m(energies,forces)\n",
      "File \u001b[0;32m~/Fitsnap_4_python_path/FitSNAP/fitsnap3lib/parallel_tools.py:330\u001b[0m, in \u001b[0;36mParallelTools.sub_rank_zero.<locals>.check_if_rank_zero\u001b[0;34m(*args, **kw)\u001b[0m\n\u001b[1;32m    329\u001b[0m \u001b[38;5;28;01mdef\u001b[39;00m \u001b[38;5;21mcheck_if_rank_zero\u001b[39m(\u001b[38;5;241m*\u001b[39margs, \u001b[38;5;241m*\u001b[39m\u001b[38;5;241m*\u001b[39mkw):\n\u001b[0;32m--> 330\u001b[0m     \u001b[38;5;28;01mreturn\u001b[39;00m \u001b[43mmethod\u001b[49m\u001b[43m(\u001b[49m\u001b[38;5;241;43m*\u001b[39;49m\u001b[43margs\u001b[49m\u001b[43m,\u001b[49m\u001b[43m \u001b[49m\u001b[38;5;241;43m*\u001b[39;49m\u001b[38;5;241;43m*\u001b[39;49m\u001b[43mkw\u001b[49m\u001b[43m)\u001b[49m\n",
      "File \u001b[0;32m~/Fitsnap_4_python_path/FitSNAP/fitsnap3lib/solvers/pytorch.py:653\u001b[0m, in \u001b[0;36mPYTORCH.evaluate_configs.<locals>.decorated_evaluate_configs\u001b[0;34m()\u001b[0m\n\u001b[1;32m    647\u001b[0m \u001b[38;5;28;01mif\u001b[39;00m (standardize_bool):\n\u001b[1;32m    648\u001b[0m     \u001b[38;5;28;01mif\u001b[39;00m \u001b[38;5;28mself\u001b[39m\u001b[38;5;241m.\u001b[39mconfig\u001b[38;5;241m.\u001b[39msections[\u001b[38;5;124m'\u001b[39m\u001b[38;5;124mPYTORCH\u001b[39m\u001b[38;5;124m'\u001b[39m]\u001b[38;5;241m.\u001b[39msave_state_input \u001b[38;5;129;01mis\u001b[39;00m \u001b[38;5;28;01mNone\u001b[39;00m:\n\u001b[1;32m    649\u001b[0m \n\u001b[1;32m    650\u001b[0m         \u001b[38;5;66;03m# standardization\u001b[39;00m\n\u001b[1;32m    651\u001b[0m         \u001b[38;5;66;03m# need to perform on all network types in the model\u001b[39;00m\n\u001b[0;32m--> 653\u001b[0m         inv_std \u001b[38;5;241m=\u001b[39m \u001b[38;5;241m1\u001b[39m\u001b[38;5;241m/\u001b[39mnp\u001b[38;5;241m.\u001b[39mstd(\u001b[38;5;28;43mself\u001b[39;49m\u001b[38;5;241;43m.\u001b[39;49m\u001b[43mpt\u001b[49m\u001b[38;5;241;43m.\u001b[39;49m\u001b[43mshared_arrays\u001b[49m\u001b[43m[\u001b[49m\u001b[38;5;124;43m'\u001b[39;49m\u001b[38;5;124;43ma\u001b[39;49m\u001b[38;5;124;43m'\u001b[39;49m\u001b[43m]\u001b[49m\u001b[38;5;241m.\u001b[39marray, axis\u001b[38;5;241m=\u001b[39m\u001b[38;5;241m0\u001b[39m)\n\u001b[1;32m    654\u001b[0m         mean_inv_std \u001b[38;5;241m=\u001b[39m np\u001b[38;5;241m.\u001b[39mmean(\u001b[38;5;28mself\u001b[39m\u001b[38;5;241m.\u001b[39mpt\u001b[38;5;241m.\u001b[39mshared_arrays[\u001b[38;5;124m'\u001b[39m\u001b[38;5;124ma\u001b[39m\u001b[38;5;124m'\u001b[39m]\u001b[38;5;241m.\u001b[39marray, axis\u001b[38;5;241m=\u001b[39m\u001b[38;5;241m0\u001b[39m) \u001b[38;5;241m*\u001b[39m inv_std\n\u001b[1;32m    655\u001b[0m         state_dict \u001b[38;5;241m=\u001b[39m \u001b[38;5;28mself\u001b[39m\u001b[38;5;241m.\u001b[39mmodel\u001b[38;5;241m.\u001b[39mstate_dict()\n",
      "\u001b[0;31mKeyError\u001b[0m: 'a'"
     ]
    }
   ],
   "source": [
    "\n",
    "# Load pytorch file from a previous fit.\n",
    "instances = [FitSnap(settings, arglist=[\"--overwrite\"]) for _ in range(nfits)]\n",
    "for i, inst in enumerate(instances):\n",
    "    t0 = time.time()\n",
    "    inst.solver.configs = configs\n",
    "    (energies_model, forces_model) = inst.solver.evaluate_configs(config_idx=None, standardize_bool=True)\n",
    "    t1 = time.time()\n",
    "    total = t1-t0\n",
    "    print('Total time (s) to obtain forces and energies from config file',total)\n",
    "\n",
    "    with open(\"energies_model_\"+str(i+1).zfill(2), \"wb\") as fp:   #Pickling\n",
    "        pickle.dump(energies_model, fp)\n",
    "        \n",
    "    with open(\"forces_model_\"+str(i+1).zfill(2), \"wb\") as fp:   #Pickling\n",
    "        pickle.dump(forces_model, fp)\n",
    "\n",
    "    # Delete the instance to free memory.\n",
    "    del inst"
   ]
  },
  {
   "cell_type": "markdown",
   "id": "696f2f9d",
   "metadata": {},
   "source": [
    "# Step 3 "
   ]
  },
  {
   "cell_type": "code",
   "execution_count": null,
   "id": "f2fc6a48",
   "metadata": {},
   "outputs": [],
   "source": [
    "len(configs)\n",
    "\n",
    "configs\n",
    "\n",
    "print(configs[0].filename)\n",
    "print(configs[0].natoms)\n",
    "print(configs[0].descriptors.shape)\n",
    "\n",
    "from tqdm import tqdm\n",
    "name_list_energy=[]\n",
    "\n",
    "for i in tqdm(range(len(configs))):\n",
    "    name_list_energy.append(configs[i].filename)\n",
    "\n",
    "print(len(name_list_energy))\n",
    "\n",
    "name_list_forces=[]\n",
    "\n",
    "for i in tqdm(range(len(configs))):\n",
    "    for j in range(configs[i].natoms*3):\n",
    "        \n",
    "        name_list_forces.append(configs[i].filename)\n",
    "\n",
    "print(len(name_list_forces))"
   ]
  },
  {
   "cell_type": "code",
   "execution_count": null,
   "id": "a2167796",
   "metadata": {},
   "outputs": [],
   "source": [
    "# previous energies\n",
    "previous_energies_1=np.load('file_with_previously_performed_names')\n",
    "print(previous_energies_1[:10])\n",
    "print(np.unique(previous_energies_1).shape)\n",
    "previous_energies_1.shape\n",
    "\n",
    "# previous forces\n",
    "\n",
    "previous_forces_1=np.load('file_with_previously_performed_names')\n",
    "print(previous_forces_1[:10])\n",
    "print(np.unique(previous_forces_1).shape)\n",
    "previous_forces_1.shape\n"
   ]
  },
  {
   "cell_type": "code",
   "execution_count": null,
   "id": "eb78a4ee",
   "metadata": {},
   "outputs": [],
   "source": [
    "# load all the dump files\n",
    "\n",
    "with open(\"energies_model_\"+str(1).zfill(2), \"rb\") as fp:   # Unpickling\n",
    "    \n",
    "    NN_1 = pickle.load(fp)\n",
    " "
   ]
  },
  {
   "cell_type": "code",
   "execution_count": null,
   "id": "dd394bf8",
   "metadata": {},
   "outputs": [],
   "source": [
    "# transform into np array\n",
    "NN_1_energy =torch.stack(NN_1).detach().numpy()\n",
    "NN_2_energy =torch.stack(NN_2).detach().numpy()\n",
    "NN_3_energy =torch.stack(NN_3).detach().numpy()\n",
    "NN_4_energy =torch.stack(NN_4).detach().numpy()\n",
    "NN_5_energy =torch.stack(NN_5).detach().numpy()"
   ]
  },
  {
   "cell_type": "code",
   "execution_count": null,
   "id": "65363a92",
   "metadata": {},
   "outputs": [],
   "source": [
    "# make one array\n",
    "all_energy=np.array([NN_1_energy,NN_2_energy,NN_3_energy,NN_4_energy,NN_5_energy])\n",
    "all_energy.shape"
   ]
  },
  {
   "cell_type": "code",
   "execution_count": null,
   "id": "91c1b90b",
   "metadata": {},
   "outputs": [],
   "source": [
    "# remove all previous \n",
    "all_energy=all_energy[:,ndx_2_keep]\n",
    "all_energy.shape"
   ]
  },
  {
   "cell_type": "code",
   "execution_count": null,
   "id": "7edfa89f",
   "metadata": {},
   "outputs": [],
   "source": [
    "# now for forces\n",
    "\n",
    "with open(\"forces_model_\"+str(1).zfill(2), \"rb\") as fp:   # Unpickling\n",
    "    \n",
    "    NN_1_force = pickle.load(fp)\n",
    "    \n",
    "with open(\"forces_model_\"+str(2).zfill(2), \"rb\") as fp:   # Unpickling\n",
    "    \n",
    "    NN_2_force = pickle.load(fp)\n",
    "    \n",
    "with open(\"forces_model_\"+str(3).zfill(2), \"rb\") as fp:   # Unpickling\n",
    "    \n",
    "    NN_3_force = pickle.load(fp)\n",
    "    \n",
    "with open(\"forces_model_\"+str(4).zfill(2), \"rb\") as fp:   # Unpickling\n",
    "    \n",
    "    NN_4_force = pickle.load(fp)\n",
    "    \n",
    "with open(\"forces_model_\"+str(5).zfill(2), \"rb\") as fp:   # Unpickling\n",
    "    \n",
    "    NN_5_force = pickle.load(fp)"
   ]
  },
  {
   "cell_type": "code",
   "execution_count": null,
   "id": "4d1b1461",
   "metadata": {},
   "outputs": [],
   "source": [
    "NN_1_force =torch.cat(NN_1_force).detach().numpy()\n",
    "NN_2_force =torch.cat(NN_2_force).detach().numpy()\n",
    "NN_3_force =torch.cat(NN_3_force).detach().numpy()\n",
    "NN_4_force =torch.cat(NN_4_force).detach().numpy()\n",
    "NN_5_force =torch.cat(NN_5_force).detach().numpy()"
   ]
  },
  {
   "cell_type": "code",
   "execution_count": null,
   "id": "4e70709e",
   "metadata": {},
   "outputs": [],
   "source": [
    "all_forces=np.array([NN_1_force,NN_2_force,NN_3_force,NN_4_force,NN_5_force])\n",
    "all_forces.shape"
   ]
  },
  {
   "cell_type": "markdown",
   "id": "47afbc17",
   "metadata": {},
   "source": [
    "# Step 4"
   ]
  },
  {
   "cell_type": "code",
   "execution_count": null,
   "id": "45ffb465",
   "metadata": {},
   "outputs": [],
   "source": [
    "std_all=all_energy.std(axis=0)\n",
    "std_all.shape"
   ]
  },
  {
   "cell_type": "code",
   "execution_count": null,
   "id": "b9aade7a",
   "metadata": {},
   "outputs": [],
   "source": [
    "# uncertain energies\n",
    "\n",
    "percentile_of_interest=np.percentile(std_all,99.99)\n",
    "print(percentile_of_interest)\n",
    "\n",
    "index_all=np.arange(len(std_all))\n",
    "\n",
    "index_of_interest=index_all[std_all>percentile_of_interest]\n",
    "print(len(index_of_interest))\n",
    "\n",
    "energy_uncertain_configs=np.array(name_list_energy_AL)[index_of_interest]\n",
    "\n",
    "# certain forces\n",
    "\n",
    "percentile_of_interest_certain=np.percentile(std_all,.01)\n",
    "print(percentile_of_interest_certain)\n",
    "\n",
    "index_all_certain=np.arange(len(std_all))\n",
    "print(len(index_all_certain))\n",
    "\n",
    "index_of_interest_certain=index_all_certain[std_all<percentile_of_interest_certain]\n",
    "print(len(index_of_interest_certain))\n",
    "\n",
    "energy_certain_configs=np.array(name_list_energy_AL)[index_of_interest_certain]"
   ]
  },
  {
   "cell_type": "code",
   "execution_count": null,
   "id": "deb2ffec",
   "metadata": {},
   "outputs": [],
   "source": [
    "std_all_forces=all_forces.std(axis=0)\n",
    "std_all_forces.shape"
   ]
  },
  {
   "cell_type": "code",
   "execution_count": null,
   "id": "f5fb788d",
   "metadata": {},
   "outputs": [],
   "source": [
    "# uncertain forces\n",
    "percentile_of_interest_forces=np.percentile(std_all_forces,99.9999)\n",
    "print(percentile_of_interest_forces)\n",
    "\n",
    "index_all_forces=np.arange(len(std_all_forces))\n",
    "\n",
    "index_of_interest_forces=index_all_forces[std_all_forces>percentile_of_interest_forces]\n",
    "print(len(index_of_interest_forces))\n",
    "\n",
    "print(std_all_forces[index_of_interest_forces[0]])\n",
    "\n",
    "print(all_forces[:,index_of_interest_forces[0]])\n",
    "\n",
    "forces_uncertain_configs=np.unique(np.array(name_list_forces_AL)[index_of_interest_forces])\n",
    "print('Uncertain Forces',forces_uncertain_configs.shape)\n",
    "\n",
    "# certain forces\n",
    "\n",
    "percentile_of_interest_certain_forces=np.percentile(std_all_forces,.0001)\n",
    "print(percentile_of_interest_certain_forces)\n",
    "\n",
    "index_all_certain_forces=np.arange(len(std_all_forces))\n",
    "\n",
    "index_of_interest_certain_forces=index_all_certain_forces[std_all_forces<percentile_of_interest_certain_forces]\n",
    "print(len(index_of_interest_certain_forces))\n",
    "\n",
    "forces_certain_configs=np.unique(np.array(name_list_forces_AL)[index_of_interest_certain_forces])\n",
    "print('Certain Forces',forces_certain_configs.shape)"
   ]
  },
  {
   "cell_type": "markdown",
   "id": "ddfbc1df",
   "metadata": {},
   "source": [
    "# Step 5\n"
   ]
  },
  {
   "cell_type": "code",
   "execution_count": null,
   "id": "57f07297",
   "metadata": {},
   "outputs": [],
   "source": []
  },
  {
   "cell_type": "markdown",
   "id": "779484db",
   "metadata": {},
   "source": [
    "# Steps\n",
    "\n",
    "1) Train 5 NN potentials using Fitsnap Library\n",
    "\n",
    "2) Evaluate the 5 NN potentials using Fitsnap Library\n",
    "\n",
    "3) Remove from evaluated results the configurations you already performed\n",
    "\n",
    "4) Select the N most certain and uncertain\n",
    "\n",
    "5) Run them using VASP\n",
    "\n",
    "6) Repeat"
   ]
  },
  {
   "cell_type": "code",
   "execution_count": null,
   "id": "e97ce21d",
   "metadata": {},
   "outputs": [],
   "source": []
  }
 ],
 "metadata": {
  "kernelspec": {
   "display_name": "Python [conda env:.conda-Fitnsap_NN_23] *",
   "language": "python",
   "name": "conda-env-.conda-Fitnsap_NN_23-py"
  },
  "language_info": {
   "codemirror_mode": {
    "name": "ipython",
    "version": 3
   },
   "file_extension": ".py",
   "mimetype": "text/x-python",
   "name": "python",
   "nbconvert_exporter": "python",
   "pygments_lexer": "ipython3",
   "version": "3.10.9"
  }
 },
 "nbformat": 4,
 "nbformat_minor": 5
}

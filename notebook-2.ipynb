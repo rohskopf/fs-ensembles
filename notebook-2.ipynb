{
 "cells": [
  {
   "attachments": {},
   "cell_type": "markdown",
   "metadata": {},
   "source": [
    "# Load fit and configs"
   ]
  },
  {
   "cell_type": "code",
   "execution_count": null,
   "metadata": {},
   "outputs": [],
   "source": [
    "import sys\n",
    "sys.path\n",
    "\n",
    "import numpy as np\n",
    "import pickle\n",
    "import torch\n",
    "from pathlib import Path\n",
    "\n",
    "import glob\n",
    "list_of_weights=sorted(glob.glob('/home/localdmonte/Nickel_potential_EM_AL_correct/NN_ensembles_using_fitsnap/AL_002/*/Ni_Pytorch.pt'))\n",
    "print('These are the weights of the nn',list_of_weights)\n",
    "\n",
    "print('Loading config file')\n",
    "\n",
    "import time\n",
    "\n",
    "t0 = time.time()\n",
    "\n",
    "with open(r\"/home/localdmonte/Ni_pot_EM_AL/NN_ensembles_using_fitsnap/evaluating_fit_Initial_fit/NN_1/configs.pickle\", \"rb\") as file:\n",
    "    configs = pickle.load(file)\n",
    "\n",
    "t1 = time.time()\n",
    "total = t1-t0\n",
    "\n",
    "print('Total time (s) to load config file',total)"
   ]
  },
  {
   "cell_type": "code",
   "execution_count": null,
   "metadata": {},
   "outputs": [],
   "source": [
    "# Declare number of fits.\n",
    "nfits = len(list_of_weights) - 1 # Ignoring the 5th one for now :)"
   ]
  },
  {
   "attachments": {},
   "cell_type": "markdown",
   "metadata": {},
   "source": [
    "# Make settings / input"
   ]
  },
  {
   "cell_type": "code",
   "execution_count": null,
   "metadata": {},
   "outputs": [],
   "source": [
    "# Can use input script path (string) or dictionary.\n",
    "#settings = \"NN_Ni_eval.in\"\n",
    "\n",
    "# Create base dictionary of settings, will be modified for each fit.\n",
    "# NOTE: Use same settings as used to train model, but use \"save_state_input\": \"Ni_Pytorch.pt\"\n",
    "settings = \\\n",
    "{\n",
    "\"BISPECTRUM\":\n",
    "    {\n",
    "    \"numTypes\": 1,\n",
    "    \"twojmax\": 8,\n",
    "    \"rcutfac\": 4.1,\n",
    "    \"rfac0\": 0.99363,\n",
    "    \"rmin0\": 0.0,\n",
    "    \"wj\": 1.0,\n",
    "    \"radelem\": 0.5,\n",
    "    \"type\": \"Ni\",\n",
    "    \"wselfallflag\": 0,\n",
    "    \"chemflag\": 0,\n",
    "    \"bzeroflag\": 1,\n",
    "    \"bikflag\": 1,\n",
    "    \"dgradflag\": 1\n",
    "    },\n",
    "\"CALCULATOR\":\n",
    "    {\n",
    "    \"calculator\": \"LAMMPSSNAP\",\n",
    "    \"energy\": 1,\n",
    "    \"force\": 1,\n",
    "    \"per_atom_energy\": 1,\n",
    "    \"nonlinear\": 1\n",
    "    },\n",
    "\"PYTORCH\":\n",
    "    {\n",
    "    \"layer_sizes\": \"num_desc 55 64 32 16 1\",\n",
    "    \"learning_rate\": 1.5e-4,\n",
    "    \"num_epochs\": 1000,\n",
    "    \"batch_size\": 4,\n",
    "    \"save_state_input\": \"Ni_Pytorch.pt\"\n",
    "    },\n",
    "\"SOLVER\":\n",
    "    {\n",
    "    \"solver\": \"PYTORCH\"\n",
    "    }\n",
    "}\n",
    "\n",
    "# Make a list of settings for each fit.\n",
    "\n",
    "nfits = 4\n",
    "from copy import deepcopy\n",
    "settings_lst = [deepcopy(settings) for _ in range(nfits)]\n",
    "for i,s in enumerate(settings_lst):\n",
    "    s['PYTORCH']['save_state_input'] = list_of_weights[i]\n",
    "print(settings_lst)\n"
   ]
  },
  {
   "attachments": {},
   "cell_type": "markdown",
   "metadata": {},
   "source": [
    "# Create FitSnap instance"
   ]
  },
  {
   "cell_type": "code",
   "execution_count": null,
   "metadata": {},
   "outputs": [],
   "source": [
    "from fitsnap3lib.fitsnap import FitSnap\n",
    "import pickle\n",
    "\n",
    "#from mpi4py import MPI\n",
    "#comm = MPI.COMM_WORLD\n",
    "\n",
    "# For settings can use dictionary or string path to input script.\n",
    "#settings = \"NN_Ni_eval.in\"\n",
    "\n",
    "fs = FitSnap(settings)\n",
    "\n",
    "# Load pytorch file from a previous fit.\n",
    "instances = [FitSnap(settings) for _ in range(nfits)]\n",
    "for i, inst in enumerate(instances):\n",
    "    t0 = time.time()\n",
    "    inst.solver.configs = configs\n",
    "    (energies_model, forces_model) = inst.solver.evaluate_configs(config_idx=None, standardize_bool=True)\n",
    "    t1 = time.time()\n",
    "    total = t1-t0\n",
    "    print('Total time (s) to obtain forces and energies from config file',total)\n",
    "\n",
    "    with open(\"energies_model_\"+str(i+1).zfill(2), \"wb\") as fp:   #Pickling\n",
    "        pickle.dump(energies_model, fp)\n",
    "        \n",
    "    with open(\"forces_model_\"+str(i+1).zfill(2), \"wb\") as fp:   #Pickling\n",
    "        pickle.dump(forces_model, fp)\n",
    "\n",
    "    # Delete the instance to free memory.\n",
    "    del inst"
   ]
  },
  {
   "attachments": {},
   "cell_type": "markdown",
   "metadata": {},
   "source": [
    "# Calculate model energies/forces."
   ]
  },
  {
   "cell_type": "code",
   "execution_count": null,
   "metadata": {},
   "outputs": [],
   "source": [
    "import pickle\n",
    "\n",
    "with open(\"energies_model_\"+str(i+1).zfill(2), \"wb\") as fp:   #Pickling\n",
    "    pickle.dump(energies_model, fp)\n",
    "    \n",
    "with open(\"forces_model_\"+str(i+1).zfill(2), \"wb\") as fp:   #Pickling\n",
    "    pickle.dump(forces_model, fp)\n",
    "\n",
    "\n",
    "# with open(\"energies_model_\"+str(1).zfill(2), \"rb\") as fp:   # Unpickling\n",
    "    \n",
    "#     b = pickle.load(fp)"
   ]
  }
 ],
 "metadata": {
  "kernelspec": {
   "display_name": "fitsnap",
   "language": "python",
   "name": "python3"
  },
  "language_info": {
   "codemirror_mode": {
    "name": "ipython",
    "version": 3
   },
   "file_extension": ".py",
   "mimetype": "text/x-python",
   "name": "python",
   "nbconvert_exporter": "python",
   "pygments_lexer": "ipython3",
   "version": "3.10.11"
  },
  "orig_nbformat": 4
 },
 "nbformat": 4,
 "nbformat_minor": 2
}

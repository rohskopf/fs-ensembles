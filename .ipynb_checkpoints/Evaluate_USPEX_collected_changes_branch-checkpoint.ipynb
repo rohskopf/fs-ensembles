{
 "cells": [
  {
   "cell_type": "code",
   "execution_count": 1,
   "id": "0cb92510",
   "metadata": {},
   "outputs": [
    {
     "data": {
      "text/plain": [
       "['/home/localdmonte/fs-ensembles',\n",
       " '/home/localdmonte/Fitsnap_4_python_path/FitSNAP',\n",
       " '/home/localdmonte/.conda/envs/Fitnsap_NN_23/lib/python310.zip',\n",
       " '/home/localdmonte/.conda/envs/Fitnsap_NN_23/lib/python3.10',\n",
       " '/home/localdmonte/.conda/envs/Fitnsap_NN_23/lib/python3.10/lib-dynload',\n",
       " '',\n",
       " '/home/localdmonte/.local/lib/python3.10/site-packages',\n",
       " '/home/localdmonte/.conda/envs/Fitnsap_NN_23/lib/python3.10/site-packages']"
      ]
     },
     "execution_count": 1,
     "metadata": {},
     "output_type": "execute_result"
    }
   ],
   "source": [
    "#!/usr/bin/env python\n",
    "# coding: utf-8\n",
    "\n",
    "# In[1]:\n",
    "\n",
    "\n",
    "import sys\n",
    "sys.path"
   ]
  },
  {
   "cell_type": "code",
   "execution_count": 2,
   "id": "d435dbce",
   "metadata": {},
   "outputs": [],
   "source": [
    "import numpy as np\n",
    "import pickle\n",
    "import torch\n",
    "from pathlib import Path"
   ]
  },
  {
   "cell_type": "code",
   "execution_count": 3,
   "id": "da46e5f2",
   "metadata": {},
   "outputs": [
    {
     "name": "stdout",
     "output_type": "stream",
     "text": [
      "These are the weights of the nn ['Ni_Pytorch.pt']\n",
      "Loading config file\n"
     ]
    }
   ],
   "source": [
    "import glob\n",
    "list_of_weights=sorted(glob.glob('Ni_Pytorch.pt'))\n",
    "print('These are the weights of the nn',list_of_weights)\n",
    "\n",
    "\n",
    "print('Loading config file')"
   ]
  },
  {
   "cell_type": "code",
   "execution_count": 4,
   "id": "767ab86b",
   "metadata": {},
   "outputs": [
    {
     "name": "stdout",
     "output_type": "stream",
     "text": [
      "Total time (s) to load config file 2.2219057083129883\n"
     ]
    }
   ],
   "source": [
    "import time\n",
    "\n",
    "t0 = time.time()\n",
    "\n",
    "\n",
    "with open(r\"USPEX_config_file/configs.pickle\", \"rb\") as file:\n",
    "    configs = pickle.load(file)\n",
    "    \n",
    "\n",
    "t1 = time.time()\n",
    "\n",
    "total = t1-t0\n",
    "\n",
    "print('Total time (s) to load config file',total)"
   ]
  },
  {
   "cell_type": "code",
   "execution_count": 5,
   "id": "6186e2ba",
   "metadata": {},
   "outputs": [
    {
     "name": "stdout",
     "output_type": "stream",
     "text": [
      "----- Global weights set: Overriding group weights.\n",
      "----- Global training fraction set: Overriding group fractions.\n",
      "Using LAMMPSSNAP as FitSNAP calculator\n",
      "Pytorch device is set to cuda\n",
      "Total time (s) to obtain forces and energies from config file 11.602773189544678\n"
     ]
    }
   ],
   "source": [
    "# In[7]:\n",
    "\n",
    "\n",
    "# Import parallel tools and create corresponding object.\n",
    "from fitsnap3lib.parallel_tools import ParallelTools\n",
    "#pt = ParallelTools(comm=comm)\n",
    "pt = ParallelTools()\n",
    "\n",
    "\n",
    "# In[8]:\n",
    "\n",
    "\n",
    "# don't check for existing fitsnap objects since we'll be overwriting things\n",
    "pt.check_fitsnap_exist = False\n",
    "from fitsnap3lib.io.input import Config\n",
    "\n",
    "\n",
    "i=0\n",
    "\n",
    "\n",
    "# Declare input script and create config object.\n",
    "# fitsnap_in = ta_example_file.as_posix() # Use posix if file is Path object\n",
    "fitsnap_in = \"NN_Ni_eval.in\"\n",
    "config = Config(arguments_lst = [fitsnap_in, \"--overwrite\"])\n",
    "# Load pytorch file from a previous fit.\n",
    "config.sections['PYTORCH'].save_state_input = list_of_weights[i]#\"Ta_Pytorch.pt\"\n",
    "# Create a fitsnap object.\n",
    "\n",
    "\n",
    "# In[10]:\n",
    "\n",
    "\n",
    "from fitsnap3lib.fitsnap import FitSnap\n",
    "snap = FitSnap()\n",
    "\n",
    "\n",
    "# In[11]:\n",
    "\n",
    "\n",
    "# Calculate model energies/forces.\n",
    "t0 = time.time()\n",
    "\n",
    "snap.solver.configs = configs\n",
    "(energies_model, forces_model) = snap.solver.evaluate_configs(config_idx=None, standardize_bool=True)\n",
    "\n",
    "t1 = time.time()\n",
    "\n",
    "total = t1-t0\n",
    "\n",
    "print('Total time (s) to obtain forces and energies from config file',total)\n",
    "\n",
    "\n",
    "import pickle\n",
    "\n",
    "with open(\"energies_model_collected_changes\"+str(i+1).zfill(2), \"wb\") as fp:   #Pickling\n",
    "    pickle.dump(energies_model, fp)\n",
    "    \n",
    "with open(\"forces_model_collected_changes\"+str(i+1).zfill(2), \"wb\") as fp:   #Pickling\n",
    "    pickle.dump(forces_model, fp)\n",
    "\n",
    "\n",
    "# # In[32]:\n",
    "\n",
    "\n",
    "# with open(\"energies_model_\"+str(1).zfill(2), \"rb\") as fp:   # Unpickling\n",
    "    \n",
    "#     b = pickle.load(fp)\n",
    "\n",
    "\n",
    "# # In[ ]:"
   ]
  },
  {
   "cell_type": "code",
   "execution_count": null,
   "id": "e2507b3d",
   "metadata": {},
   "outputs": [],
   "source": []
  }
 ],
 "metadata": {
  "kernelspec": {
   "display_name": "Python [conda env:.conda-Fitnsap_NN_23] *",
   "language": "python",
   "name": "conda-env-.conda-Fitnsap_NN_23-py"
  },
  "language_info": {
   "codemirror_mode": {
    "name": "ipython",
    "version": 3
   },
   "file_extension": ".py",
   "mimetype": "text/x-python",
   "name": "python",
   "nbconvert_exporter": "python",
   "pygments_lexer": "ipython3",
   "version": "3.10.9"
  }
 },
 "nbformat": 4,
 "nbformat_minor": 5
}

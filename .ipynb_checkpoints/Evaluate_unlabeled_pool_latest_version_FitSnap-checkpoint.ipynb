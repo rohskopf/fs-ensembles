{
 "cells": [
  {
   "cell_type": "code",
   "execution_count": 1,
   "metadata": {},
   "outputs": [
    {
     "data": {
      "text/plain": [
       "['/home/localdmonte/fs-ensembles',\n",
       " '/home/localdmonte/Fitsnap_4_python_path/FitSNAP',\n",
       " '/home/localdmonte/.conda/envs/Fitnsap_NN_23/lib/python310.zip',\n",
       " '/home/localdmonte/.conda/envs/Fitnsap_NN_23/lib/python3.10',\n",
       " '/home/localdmonte/.conda/envs/Fitnsap_NN_23/lib/python3.10/lib-dynload',\n",
       " '',\n",
       " '/home/localdmonte/.local/lib/python3.10/site-packages',\n",
       " '/home/localdmonte/.conda/envs/Fitnsap_NN_23/lib/python3.10/site-packages']"
      ]
     },
     "execution_count": 1,
     "metadata": {},
     "output_type": "execute_result"
    }
   ],
   "source": [
    "import sys\n",
    "sys.path"
   ]
  },
  {
   "cell_type": "code",
   "execution_count": 2,
   "metadata": {},
   "outputs": [],
   "source": [
    "import numpy as np\n",
    "import pickle\n",
    "import torch\n",
    "from pathlib import Path"
   ]
  },
  {
   "cell_type": "code",
   "execution_count": 3,
   "metadata": {},
   "outputs": [
    {
     "name": "stdout",
     "output_type": "stream",
     "text": [
      "These are the weights of the nn ['Ni_Pytorch.pt']\n"
     ]
    }
   ],
   "source": [
    "import glob\n",
    "list_of_weights=sorted(glob.glob('Ni_Pytorch.pt'))\n",
    "print('These are the weights of the nn',list_of_weights)"
   ]
  },
  {
   "cell_type": "code",
   "execution_count": 4,
   "metadata": {},
   "outputs": [
    {
     "name": "stdout",
     "output_type": "stream",
     "text": [
      "Loading config file\n",
      "Total time (s) to load config file 2.147149085998535\n"
     ]
    }
   ],
   "source": [
    "print('Loading config file')\n",
    "\n",
    "import time\n",
    "\n",
    "t0 = time.time()\n",
    "\n",
    "with open(r\"USPEX_config_file/configs.pickle\", \"rb\") as file:\n",
    "    configs = pickle.load(file)\n",
    "\n",
    "t1 = time.time()\n",
    "total = t1-t0\n",
    "\n",
    "print('Total time (s) to load config file',total)"
   ]
  },
  {
   "cell_type": "markdown",
   "metadata": {},
   "source": [
    "# Make settings / input"
   ]
  },
  {
   "cell_type": "code",
   "execution_count": 5,
   "metadata": {},
   "outputs": [],
   "source": [
    "# # Can use input script path (string) or dictionary.\n",
    "settings = \"NN_Ni_eval.in\"\n",
    "\n",
    "# settings = \\\n",
    "# {\n",
    "# \"BISPECTRUM\":\n",
    "#     {\n",
    "#     \"numTypes\": 1,\n",
    "#     \"twojmax\": 8,\n",
    "#     \"rcutfac\": 4.1,\n",
    "#     \"rfac0\": 0.99363,\n",
    "#     \"rmin0\": 0.0,\n",
    "#     \"wj\": 1.0,\n",
    "#     \"radelem\": 0.5,\n",
    "#     \"type\": \"Ni\",\n",
    "#     \"wselfallflag\": 0,\n",
    "#     \"chemflag\": 0,\n",
    "#     \"bzeroflag\": 1,\n",
    "#     \"bikflag\": 1,\n",
    "#     \"dgradflag\": 1\n",
    "#     },\n",
    "# \"CALCULATOR\":\n",
    "#     {\n",
    "#     \"calculator\": \"LAMMPSSNAP\",\n",
    "#     \"energy\": 1,\n",
    "#     \"force\": 1,\n",
    "#     \"per_atom_energy\": 1,\n",
    "#     \"nonlinear\": 1\n",
    "#     },\n",
    "# \"PYTORCH\":\n",
    "#     {\n",
    "#     \"layer_sizes\": \"num_desc 55 64 32 16 1\",\n",
    "#     \"learning_rate\": 1.5e-4,\n",
    "#     \"num_epochs\": 1000,\n",
    "#     \"batch_size\": 4,\n",
    "#     \"save_state_output\": \"Ni_Pytorch.pt\"\n",
    "#     },\n",
    "# \"SOLVER\":\n",
    "#     {\n",
    "#     \"solver\": \"PYTORCH\"\n",
    "#     },\n",
    "# \"SCRAPER\":\n",
    "#     {\n",
    "#     \"scraper\": \"JSON\" \n",
    "#     },\n",
    "# \"PATH\":\n",
    "#     {\n",
    "#     \"dataPath\": \"/home/localdmonte/Ni_pot_EM_AL/bispectrum_df_and_json_files/EM_Ni_set/Entropy_set_rescaled_json_internet_factor\"\n",
    "#     },\n",
    "# \"OUTFILE\":\n",
    "#     {\n",
    "#     \"metrics\": \"Ni_metrics_eval.dat\",\n",
    "#     \"potential\": \"Ni_pot\"   \n",
    "#     },\n",
    "# \"REFERENCE\":\n",
    "#     {\n",
    "#     \"units\": \"metal\",\n",
    "#     \"atom_style\": \"atomic\",\n",
    "#     \"pair_style\": \"zero 10.0\",\n",
    "#     \"pair_coeff\": \"* *\"\n",
    "#     },\n",
    "# \"GROUPS\":\n",
    "#     {\n",
    "#     \"group_sections\": \"name training_size testing_size eweight fweight\",\n",
    "#     \"group_types\": \"str float float float float\",\n",
    "#     \"smartweights\": 0,\n",
    "#     \"random_sampling\": 0\n",
    "#     }\n",
    "# }\n",
    "\n",
    "# # Add all the groups.\n",
    "# chars = [chr(i) for i in range(ord('a'), ord('z')+1, 1)]\n",
    "# for c in chars:\n",
    "#     settings['GROUPS'][f'json-xa{c}'] = \"1  0  1.0e6 1.0e6\""
   ]
  },
  {
   "cell_type": "markdown",
   "metadata": {},
   "source": [
    "# Create FitSnap instance"
   ]
  },
  {
   "cell_type": "markdown",
   "metadata": {},
   "source": [
    "# Calculate model energies/forces."
   ]
  },
  {
   "cell_type": "code",
   "execution_count": 6,
   "metadata": {},
   "outputs": [
    {
     "name": "stdout",
     "output_type": "stream",
     "text": [
      "----- Global weights set: Overriding group weights.\n",
      "----- Global training fraction set: Overriding group fractions.\n"
     ]
    }
   ],
   "source": [
    "from fitsnap3lib.fitsnap import FitSnap\n",
    "import pickle\n",
    "\n",
    "#from mpi4py import MPI\n",
    "#comm = MPI.COMM_WORLD\n",
    "\n",
    "# For settings can use dictionary or string path to input script.\n",
    "#settings = \"NN_Ni_eval.in\"\n",
    "\n",
    "fs = FitSnap(settings, arglist=[\"--overwrite\"])"
   ]
  },
  {
   "cell_type": "code",
   "execution_count": 7,
   "metadata": {},
   "outputs": [
    {
     "name": "stdout",
     "output_type": "stream",
     "text": [
      "Ni_Pytorch.pt\n",
      "Total time (s) to obtain forces and energies from config file 11.440009355545044\n"
     ]
    }
   ],
   "source": [
    "i=0\n",
    "print(list_of_weights[i])\n",
    "t0 = time.time()\n",
    "fs.config.sections['PYTORCH'].save_state_input = list_of_weights[i]\n",
    "fs.solver.configs = configs\n",
    "(energies_model, forces_model) = fs.solver.evaluate_configs(config_idx=None, standardize_bool=True)\n",
    "t1 = time.time()\n",
    "total = t1-t0\n",
    "print('Total time (s) to obtain forces and energies from config file',total)"
   ]
  },
  {
   "cell_type": "code",
   "execution_count": 8,
   "metadata": {},
   "outputs": [],
   "source": [
    "with open(\"energies_model_latest_fitsnap\"+str(i+1).zfill(2), \"wb\") as fp:   #Pickling\n",
    "    pickle.dump(energies_model, fp)\n",
    "\n",
    "with open(\"forces_model__latest_fitsnap\"+str(i+1).zfill(2), \"wb\") as fp:   #Pickling\n",
    "    pickle.dump(forces_model, fp)"
   ]
  },
  {
   "cell_type": "code",
   "execution_count": null,
   "metadata": {},
   "outputs": [],
   "source": []
  }
 ],
 "metadata": {
  "kernelspec": {
   "display_name": "Python 3 (ipykernel)",
   "language": "python",
   "name": "python3"
  },
  "language_info": {
   "codemirror_mode": {
    "name": "ipython",
    "version": 3
   },
   "file_extension": ".py",
   "mimetype": "text/x-python",
   "name": "python",
   "nbconvert_exporter": "python",
   "pygments_lexer": "ipython3",
   "version": "3.10.9"
  }
 },
 "nbformat": 4,
 "nbformat_minor": 2
}
